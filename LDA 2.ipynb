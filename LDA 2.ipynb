{
 "cells": [
  {
   "cell_type": "code",
   "execution_count": 6,
   "metadata": {},
   "outputs": [
    {
     "data": {
      "text/html": [
       "<div>\n",
       "<style scoped>\n",
       "    .dataframe tbody tr th:only-of-type {\n",
       "        vertical-align: middle;\n",
       "    }\n",
       "\n",
       "    .dataframe tbody tr th {\n",
       "        vertical-align: top;\n",
       "    }\n",
       "\n",
       "    .dataframe thead th {\n",
       "        text-align: right;\n",
       "    }\n",
       "</style>\n",
       "<table border=\"1\" class=\"dataframe\">\n",
       "  <thead>\n",
       "    <tr style=\"text-align: right;\">\n",
       "      <th></th>\n",
       "      <th>id</th>\n",
       "      <th>year</th>\n",
       "      <th>title</th>\n",
       "      <th>event_type</th>\n",
       "      <th>pdf_name</th>\n",
       "      <th>abstract</th>\n",
       "      <th>paper_text</th>\n",
       "    </tr>\n",
       "  </thead>\n",
       "  <tbody>\n",
       "    <tr>\n",
       "      <td>0</td>\n",
       "      <td>1</td>\n",
       "      <td>1987</td>\n",
       "      <td>Self-Organization of Associative Database and ...</td>\n",
       "      <td>NaN</td>\n",
       "      <td>1-self-organization-of-associative-database-an...</td>\n",
       "      <td>Abstract Missing</td>\n",
       "      <td>767\\n\\nSELF-ORGANIZATION OF ASSOCIATIVE DATABA...</td>\n",
       "    </tr>\n",
       "    <tr>\n",
       "      <td>1</td>\n",
       "      <td>10</td>\n",
       "      <td>1987</td>\n",
       "      <td>A Mean Field Theory of Layer IV of Visual Cort...</td>\n",
       "      <td>NaN</td>\n",
       "      <td>10-a-mean-field-theory-of-layer-iv-of-visual-c...</td>\n",
       "      <td>Abstract Missing</td>\n",
       "      <td>683\\n\\nA MEAN FIELD THEORY OF LAYER IV OF VISU...</td>\n",
       "    </tr>\n",
       "    <tr>\n",
       "      <td>2</td>\n",
       "      <td>100</td>\n",
       "      <td>1988</td>\n",
       "      <td>Storing Covariance by the Associative Long-Ter...</td>\n",
       "      <td>NaN</td>\n",
       "      <td>100-storing-covariance-by-the-associative-long...</td>\n",
       "      <td>Abstract Missing</td>\n",
       "      <td>394\\n\\nSTORING COVARIANCE BY THE ASSOCIATIVE\\n...</td>\n",
       "    </tr>\n",
       "    <tr>\n",
       "      <td>3</td>\n",
       "      <td>1000</td>\n",
       "      <td>1994</td>\n",
       "      <td>Bayesian Query Construction for Neural Network...</td>\n",
       "      <td>NaN</td>\n",
       "      <td>1000-bayesian-query-construction-for-neural-ne...</td>\n",
       "      <td>Abstract Missing</td>\n",
       "      <td>Bayesian Query Construction for Neural\\nNetwor...</td>\n",
       "    </tr>\n",
       "    <tr>\n",
       "      <td>4</td>\n",
       "      <td>1001</td>\n",
       "      <td>1994</td>\n",
       "      <td>Neural Network Ensembles, Cross Validation, an...</td>\n",
       "      <td>NaN</td>\n",
       "      <td>1001-neural-network-ensembles-cross-validation...</td>\n",
       "      <td>Abstract Missing</td>\n",
       "      <td>Neural Network Ensembles, Cross\\nValidation, a...</td>\n",
       "    </tr>\n",
       "  </tbody>\n",
       "</table>\n",
       "</div>"
      ],
      "text/plain": [
       "     id  year                                              title event_type  \\\n",
       "0     1  1987  Self-Organization of Associative Database and ...        NaN   \n",
       "1    10  1987  A Mean Field Theory of Layer IV of Visual Cort...        NaN   \n",
       "2   100  1988  Storing Covariance by the Associative Long-Ter...        NaN   \n",
       "3  1000  1994  Bayesian Query Construction for Neural Network...        NaN   \n",
       "4  1001  1994  Neural Network Ensembles, Cross Validation, an...        NaN   \n",
       "\n",
       "                                            pdf_name          abstract  \\\n",
       "0  1-self-organization-of-associative-database-an...  Abstract Missing   \n",
       "1  10-a-mean-field-theory-of-layer-iv-of-visual-c...  Abstract Missing   \n",
       "2  100-storing-covariance-by-the-associative-long...  Abstract Missing   \n",
       "3  1000-bayesian-query-construction-for-neural-ne...  Abstract Missing   \n",
       "4  1001-neural-network-ensembles-cross-validation...  Abstract Missing   \n",
       "\n",
       "                                          paper_text  \n",
       "0  767\\n\\nSELF-ORGANIZATION OF ASSOCIATIVE DATABA...  \n",
       "1  683\\n\\nA MEAN FIELD THEORY OF LAYER IV OF VISU...  \n",
       "2  394\\n\\nSTORING COVARIANCE BY THE ASSOCIATIVE\\n...  \n",
       "3  Bayesian Query Construction for Neural\\nNetwor...  \n",
       "4  Neural Network Ensembles, Cross\\nValidation, a...  "
      ]
     },
     "execution_count": 6,
     "metadata": {},
     "output_type": "execute_result"
    }
   ],
   "source": [
    "# Importing modules\n",
    "import pandas as pd\n",
    "\n",
    "# Read data into papers\n",
    "papers = pd.read_csv(r'C:\\Users\\HP\\Desktop\\jupyterfile\\NIPS Papers\\papers.csv')\n",
    "# Print head\n",
    "papers.head()"
   ]
  },
  {
   "cell_type": "code",
   "execution_count": 7,
   "metadata": {},
   "outputs": [
    {
     "data": {
      "text/html": [
       "<div>\n",
       "<style scoped>\n",
       "    .dataframe tbody tr th:only-of-type {\n",
       "        vertical-align: middle;\n",
       "    }\n",
       "\n",
       "    .dataframe tbody tr th {\n",
       "        vertical-align: top;\n",
       "    }\n",
       "\n",
       "    .dataframe thead th {\n",
       "        text-align: right;\n",
       "    }\n",
       "</style>\n",
       "<table border=\"1\" class=\"dataframe\">\n",
       "  <thead>\n",
       "    <tr style=\"text-align: right;\">\n",
       "      <th></th>\n",
       "      <th>paper_text</th>\n",
       "    </tr>\n",
       "  </thead>\n",
       "  <tbody>\n",
       "    <tr>\n",
       "      <td>1421</td>\n",
       "      <td>Learning Graphical Models\\nwith Mercer Kernels...</td>\n",
       "    </tr>\n",
       "    <tr>\n",
       "      <td>6028</td>\n",
       "      <td>Using Social Dynamics to Make Individual Predi...</td>\n",
       "    </tr>\n",
       "    <tr>\n",
       "      <td>1995</td>\n",
       "      <td>Gradient Flow Independent Component\\nAnalysis ...</td>\n",
       "    </tr>\n",
       "    <tr>\n",
       "      <td>2438</td>\n",
       "      <td>Using Deep Belief Nets to Learn Covariance Ker...</td>\n",
       "    </tr>\n",
       "    <tr>\n",
       "      <td>877</td>\n",
       "      <td>Error-correcting Codes on a Bethe-like Lattice...</td>\n",
       "    </tr>\n",
       "  </tbody>\n",
       "</table>\n",
       "</div>"
      ],
      "text/plain": [
       "                                             paper_text\n",
       "1421  Learning Graphical Models\\nwith Mercer Kernels...\n",
       "6028  Using Social Dynamics to Make Individual Predi...\n",
       "1995  Gradient Flow Independent Component\\nAnalysis ...\n",
       "2438  Using Deep Belief Nets to Learn Covariance Ker...\n",
       "877   Error-correcting Codes on a Bethe-like Lattice..."
      ]
     },
     "execution_count": 7,
     "metadata": {},
     "output_type": "execute_result"
    }
   ],
   "source": [
    "# Remove the columns\n",
    "papers = papers.drop(columns=['id', 'title', 'abstract', \n",
    "                              'event_type', 'pdf_name', 'year'], axis=1)\n",
    "# sample only 10 papers - for demonstration purposes\n",
    "papers = papers.sample(10)\n",
    "# Print out the first rows of papers\n",
    "papers.head()"
   ]
  },
  {
   "cell_type": "code",
   "execution_count": 8,
   "metadata": {},
   "outputs": [
    {
     "data": {
      "text/plain": [
       "1421    learning graphical models\\nwith mercer kernels...\n",
       "6028    using social dynamics to make individual predi...\n",
       "1995    gradient flow independent component\\nanalysis ...\n",
       "2438    using deep belief nets to learn covariance ker...\n",
       "877     error-correcting codes on a bethe-like lattice...\n",
       "Name: paper_text_processed, dtype: object"
      ]
     },
     "execution_count": 8,
     "metadata": {},
     "output_type": "execute_result"
    }
   ],
   "source": [
    "# Load the regular expression library\n",
    "import re\n",
    "# Remove punctuation\n",
    "papers['paper_text_processed'] = papers['paper_text'].map(lambda x: re.sub('[,\\.!?]', '', x))\n",
    "# Convert the titles to lowercase\n",
    "papers['paper_text_processed'] = papers['paper_text_processed'].map(lambda x: x.lower())\n",
    "# Print out the first rows of papers\n",
    "papers['paper_text_processed'].head()"
   ]
  },
  {
   "cell_type": "code",
   "execution_count": 10,
   "metadata": {},
   "outputs": [
    {
     "name": "stdout",
     "output_type": "stream",
     "text": [
      "[['learning', 'graphical', 'models', 'with', 'mercer', 'kernels', 'francis', 'bach', 'division', 'of', 'computer', 'science', 'university', 'of', 'california', 'berkeley', 'ca', 'fbach', 'csberkeleyedu', 'michael', 'jordan', 'computer', 'science', 'and', 'statistics', 'university', 'of', 'california', 'berkeley', 'ca', 'jordan', 'csberkeleyedu', 'abstract', 'we', 'present', 'class', 'of', 'algorithms', 'for', 'learning', 'the', 'structure', 'of', 'graphical', 'models', 'from', 'data', 'the', 'algorithms', 'are', 'based', 'on', 'measure', 'known', 'as', 'the', 'kernel', 'generalized', 'variance', 'kgv', 'which', 'essentially', 'allows', 'us', 'to', 'treat', 'all', 'variables', 'on', 'an', 'equal', 'footing', 'as', 'gaussians', 'in', 'feature', 'space', 'obtained', 'from', 'mercer', 'kernels', 'thus', 'we', 'are', 'able', 'to', 'learn', 'hybrid', 'graphs', 'involving', 'discrete', 'and', 'continuous', 'variables', 'of', 'arbitrary', 'type', 'we', 'explore', 'the', 'computational', 'properties', 'of', 'our', 'approach', 'showing', 'how', 'to', 'use', 'the', 'kernel', 'trick', 'to', 'compute', 'the', 'relevant', 'statistics', 'in', 'linear', 'time', 'we', 'illustrate', 'our', 'framework', 'with', 'experiments', 'involving', 'discrete', 'and', 'continuous', 'data', 'introduction', 'graphical', 'models', 'are', 'compact', 'and', 'efficient', 'way', 'of', 'representing', 'joint', 'probability', 'distribution', 'of', 'set', 'of', 'variables', 'in', 'recent', 'years', 'there', 'has', 'been', 'growing', 'interest', 'in', 'learning', 'the', 'structure', 'of', 'graphical', 'models', 'directly', 'from', 'data', 'either', 'in', 'the', 'directed', 'case', 'or', 'the', 'undirected', 'case', 'current', 'algorithms', 'deal', 'reasonably', 'well', 'with', 'models', 'involving', 'discrete', 'variables', 'or', 'gaussian', 'variables', 'having', 'only', 'limited', 'interaction', 'with', 'discrete', 'neighbors', 'however', 'applications', 'to', 'general', 'hybrid', 'graphs', 'and', 'to', 'domains', 'with', 'general', 'continuous', 'variables', 'are', 'few', 'and', 'are', 'generally', 'based', 'on', 'discretization', 'in', 'this', 'paper', 'we', 'present', 'general', 'framework', 'that', 'can', 'be', 'applied', 'to', 'any', 'type', 'of', 'variable', 'we', 'make', 'use', 'of', 'relationship', 'between', 'kernel', 'based', 'measures', 'of', 'generalized', 'variance', 'in', 'feature', 'space', 'and', 'quantities', 'such', 'as', 'mutual', 'information', 'and', 'pairwise', 'independence', 'in', 'the', 'input', 'space', 'in', 'particular', 'suppose', 'that', 'each', 'variable', 'in', 'our', 'domain', 'is', 'mapped', 'into', 'high', 'dimensional', 'space', 'via', 'map', 'let', 'and', 'consider', 'the', 'set', 'of', 'random', 'variables', 'in', 'feature', 'space', 'suppose', 'that', 'we', 'compute', 'the', 'mean', 'and', 'covariance', 'matrix', 'of', 'these', 'variables', 'and', 'consider', 'set', 'of', 'gaussian', 'variables', 'that', 'have', 'the', 'same', 'mean', 'and', 'covariance', 'we', 'showed', 'in', 'that', 'canonical', 'correlation', 'analysis', 'of', 'yields', 'measure', 'known', 'as', 'kernel', 'generalized', 'variance', 'that', 'characterizes', 'pairwise', 'independence', 'among', 'the', 'original', 'variables', 'and', 'is', 'closely', 'related', 'to', 'the', 'mutual', 'information', 'among', 'the', 'original', 'variables', 'this', 'link', 'led', 'to', 'new', 'set', 'of', 'algorithms', 'for', 'independent', 'component', 'analysis', 'in', 'the', 'current', 'paper', 'we', 'pursue', 'this', 'idea', 'in', 'different', 'direction', 'considering', 'the', 'use', 'of', 'the', 'kernel', 'generalized', 'variance', 'as', 'surrogate', 'for', 'the', 'mutual', 'information', 'in', 'model', 'selection', 'problems', 'effectively', 'we', 'map', 'data', 'into', 'feature', 'space', 'via', 'set', 'of', 'mercer', 'kernels', 'with', 'different', 'kernels', 'for', 'different', 'data', 'types', 'and', 'treat', 'all', 'data', 'on', 'an', 'equal', 'footing', 'as', 'gaussian', 'in', 'feature', 'space', 'we', 'briefly', 'review', 'the', 'structure', 'learning', 'problem', 'in', 'section', 'and', 'in', 'section', 'and', 'section', 'we', 'show', 'how', 'classical', 'approaches', 'to', 'the', 'problem', 'based', 'on', 'mdl', 'bic', 'and', 'conditional', 'independence', 'tests', 'can', 'be', 'extended', 'to', 'our', 'kernel', 'based', 'approach', 'in', 'section', 'we', 'show', 'that', 'by', 'making', 'use', 'of', 'the', 'kernel', 'trick', 'we', 'are', 'able', 'to', 'compute', 'the', 'sample', 'covariance', 'matrix', 'in', 'feature', 'space', 'in', 'linear', 'time', 'in', 'the', 'number', 'of', 'samples', 'section', 'presents', 'experimental', 'results', 'learning', 'graphical', 'models', 'structure', 'learning', 'algorithms', 'generally', 'use', 'one', 'of', 'two', 'equivalent', 'interpretations', 'of', 'graphical', 'models', 'the', 'compact', 'factorization', 'of', 'the', 'joint', 'probability', 'distribution', 'function', 'leads', 'to', 'local', 'search', 'algorithms', 'while', 'conditional', 'independence', 'relationships', 'suggest', 'methods', 'based', 'on', 'conditional', 'independence', 'tests', 'local', 'search', 'in', 'this', 'approach', 'structure', 'learning', 'is', 'explicitly', 'cast', 'as', 'model', 'selection', 'problem', 'for', 'directed', 'graphical', 'models', 'in', 'the', 'mdl', 'bic', 'setting', 'of', 'the', 'likelihood', 'is', 'penalized', 'by', 'model', 'selection', 'term', 'that', 'is', 'equal', 'to', 'times', 'the', 'number', 'of', 'parameters', 'necessary', 'to', 'encode', 'the', 'local', 'distributions', 'the', 'likelihood', 'term', 'can', 'be', 'decomposed', 'and', 'expressed', 'as', 'follows', 'with', 'is', 'the', 'where', 'is', 'the', 'set', 'of', 'parents', 'of', 'node', 'in', 'the', 'graph', 'to', 'be', 'scored', 'and', 'empirical', 'mutual', 'information', 'between', 'the', 'variable', 'and', 'the', 'vector', 'these', 'mutual', 'information', 'terms', 'and', 'the', 'number', 'of', 'parameters', 'for', 'each', 'local', 'conditional', 'distributions', 'are', 'easily', 'computable', 'in', 'discrete', 'models', 'as', 'well', 'as', 'in', 'gaussian', 'models', 'alternatively', 'in', 'full', 'bayesian', 'framework', 'under', 'assumptions', 'about', 'parameter', 'independence', 'parameter', 'modularity', 'and', 'prior', 'distributions', 'dirichlet', 'for', 'discrete', 'networks', 'inverse', 'wishart', 'for', 'gaussian', 'networks', 'the', 'log', 'posterior', 'probability', 'of', 'graph', 'given', 'the', 'data', 'can', 'be', 'decomposed', 'in', 'similar', 'way', 'given', 'that', 'our', 'approach', 'is', 'based', 'on', 'the', 'assumption', 'of', 'gaussianity', 'in', 'feature', 'space', 'we', 'could', 'base', 'our', 'development', 'on', 'either', 'the', 'mdl', 'bic', 'approach', 'or', 'the', 'full', 'bayesian', 'approach', 'in', 'this', 'paper', 'we', 'extend', 'the', 'mdl', 'bic', 'approach', 'as', 'detailed', 'in', 'section', 'conditional', 'independence', 'tests', 'in', 'this', 'approach', 'conditional', 'independence', 'tests', 'are', 'performed', 'to', 'constrain', 'the', 'structure', 'of', 'possible', 'graphs', 'for', 'undirected', 'models', 'going', 'from', 'the', 'graph', 'to', 'the', 'set', 'of', 'conditional', 'independences', 'is', 'relatively', 'easy', 'there', 'is', 'an', 'edge', 'between', 'and', 'if', 'and', 'only', 'if', 'and', 'are', 'independent', 'given', 'all', 'other', 'variables', 'in', 'section', 'we', 'show', 'how', 'our', 'approach', 'could', 'be', 'used', 'to', 'perform', 'independence', 'tests', 'and', 'learn', 'an', 'undirected', 'graphical', 'model', 'we', 'also', 'show', 'how', 'this', 'approach', 'can', 'be', 'used', 'to', 'prune', 'the', 'search', 'space', 'for', 'the', 'local', 'search', 'of', 'directed', 'model', 'gaussians', 'in', 'feature', 'space', 'in', 'this', 'section', 'we', 'introduce', 'our', 'gaussianity', 'assumption', 'and', 'show', 'how', 'to', 'approximate', 'the', 'mutual', 'information', 'as', 'required', 'for', 'the', 'structure', 'learning', 'algorithms', 'mercer', 'kernels', 'mercer', 'kernel', 'on', 'space', 'is', 'function', 'from', 'to', 'such', 'that', 'for', 'any', 'set', 'of', 'points', 'in', 'the', 'matrix', 'defined', 'by', 'is', 'positive', 'semidefinite', 'the', 'matrix', 'is', 'usually', 'referred', 'to', 'as', 'the', 'gram', 'matrix', 'of', 'the', 'points', 'given', 'mercer', 'kernel', 'it', 'is', 'possible', 'to', 'find', 'space', 'and', 'map', 'from', 'to', 'such', 'that', 'is', 'the', 'dot', 'product', 'in', 'between', 'and', 'see', 'eg', 'the', 'space', 'is', 'usually', 'referred', 'to', 'as', 'the', 'feature', 'space', 'and', 'the', 'map', 'as', 'the', 'feature', 'map', 'we', 'will', 'use', 'the', 'notation', 'to', 'denote', 'the', 'dot', 'product', 'of', 'and', 'in', 'feature', 'space', 'notation', 'to', 'denote', 'the', 'representative', 'of', 'in', 'the', 'dual', 'space', 'of', 'we', 'also', 'use', 'the', 'for', 'we', 'use', 'the', 'trivial', 'kernel', 'discrete', 'variable', 'which', 'takes', 'values', 'in', 'which', 'corresponds', 'to', 'feature', 'space', 'of', 'dimension', 'the', 'feature', 'map', 'is', 'note', 'that', 'this', 'mapping', 'corresponds', 'to', 'the', 'usual', 'embedding', 'of', 'multinomial', 'variable', 'of', 'order', 'in', 'the', 'vector', 'space', 'for', 'continuous', 'variables', 'we', 'use', 'the', 'gaussian', 'kernel', 'the', 'feature', 'space', 'has', 'infinite', 'dimension', 'but', 'as', 'we', 'will', 'show', 'the', 'data', 'only', 'occupy', 'small', 'linear', 'manifold', 'and', 'this', 'linear', 'subspace', 'can', 'be', 'determined', 'adaptively', 'in', 'linear', 'time', 'note', 'that', 'which', 'corresponds', 'to', 'simply', 'modeling', 'the', 'an', 'alternative', 'is', 'to', 'use', 'the', 'kernel', 'data', 'as', 'gaussian', 'in', 'input', 'space', 'notation', 'let', 'be', 'random', 'variables', 'with', 'values', 'in', 'spaces', 'let', 'us', 'assign', 'mercer', 'kernel', 'to', 'each', 'of', 'the', 'input', 'spaces', 'with', 'feature', 'space', 'and', 'feature', 'map', 'the', 'random', 'vector', 'of', 'feature', 'images', 'has', 'covariance', 'matrix', 'defined', 'by', 'blocks', 'with', 'block', 'being', 'the', 'covariance', 'matrix', 'between', 'and', 'let', 'denote', 'jointly', 'gaussian', 'vector', 'with', 'the', 'same', 'mean', 'and', 'covariance', 'as', 'the', 'vector', 'will', 'be', 'used', 'as', 'the', 'random', 'vector', 'on', 'which', 'the', 'learning', 'of', 'graphical', 'model', 'structure', 'is', 'based', 'note', 'that', 'the', 'sufficient', 'statistics', 'for', 'this', 'vector', 'are', 'and', 'are', 'inherently', 'pairwise', 'no', 'dependency', 'involving', 'strictly', 'more', 'than', 'two', 'variables', 'is', 'modeled', 'explicitly', 'which', 'makes', 'our', 'scoring', 'metric', 'easy', 'to', 'compute', 'in', 'section', 'we', 'present', 'empirical', 'evidence', 'that', 'good', 'models', 'can', 'be', 'learned', 'using', 'only', 'pairwise', 'information', 'computing', 'sample', 'covariances', 'using', 'kernel', 'trick', 'by', 'mapping', 'we', 'are', 'given', 'random', 'sample', 'of', 'elements', 'of', 'we', 'assume', 'that', 'for', 'each', 'into', 'the', 'feature', 'spaces', 'we', 'define', 'elements', 'the', 'data', 'in', 'feature', 'space', 'have', 'been', 'centered', 'ie', 'the', 'sample', 'covariance', 'matrix', 'is', 'then', 'equal', 'to', 'note', 'that', 'gaussian', 'with', 'covariance', 'matrix', 'has', 'zero', 'variance', 'along', 'directions', 'that', 'are', 'orthogonal', 'to', 'the', 'images', 'of', 'the', 'data', 'consequently', 'in', 'order', 'to', 'compute', 'the', 'mutual', 'information', 'we', 'only', 'need', 'to', 'compute', 'the', 'covariance', 'matrix', 'of', 'the', 'projection', 'of', 'onto', 'the', 'linear', 'span', 'of', 'the', 'data', 'that', 'is', 'for', 'all', 'vectors', 'with', 'only', 'zeros', 'except', 'at', 'position', 'and', 'is', 'the', 'gram', 'where', 'denotes', 'the', 'matrix', 'of', 'the', 'centered', 'points', 'the', 'so', 'called', 'centered', 'gram', 'matrix', 'of', 'the', 'th', 'component', 'defined', 'from', 'the', 'gram', 'matrix', 'of', 'the', 'original', 'non', 'centered', 'points', 'as', 'where', 'is', 'matrix', 'composed', 'of', 'ones', 'from', 'eq', 'we', 'see', 'that', 'the', 'sample', 'covariance', 'matrix', 'of', 'in', 'the', 'data', 'basis', 'has', 'blocks', 'regularization', 'when', 'the', 'feature', 'space', 'has', 'infinite', 'dimension', 'as', 'in', 'the', 'case', 'of', 'gaussian', 'kernel', 'on', 'then', 'the', 'covariance', 'we', 'are', 'implicitly', 'fitting', 'with', 'kernel', 'method', 'has', 'an', 'infinite', 'number', 'of', 'parameters', 'in', 'order', 'to', 'avoid', 'overfitting', 'and', 'control', 'the', 'capacity', 'of', 'our', 'models', 'we', 'regularize', 'by', 'smoothing', 'the', 'gaussian', 'by', 'another', 'gaussian', 'with', 'small', 'variance', 'for', 'an', 'alternative', 'interpretation', 'and', 'further', 'details', 'see', 'let', 'be', 'small', 'constant', 'we', 'add', 'to', 'an', 'isotropic', 'gaussian', 'with', 'covariance', 'in', 'an', 'orthonormal', 'basis', 'in', 'the', 'data', 'basis', 'the', 'covariance', 'of', 'this', 'gaussian', 'is', 'exactly', 'the', 'block', 'diagonal', 'matrix', 'consequently', 'our', 'regularized', 'gaussian', 'covariance', 'has', 'blocks', 'with', 'blocks', 'if', 'and', 'since', 'is', 'small', 'constant', 'we', 'can', 'use', 'leads', 'to', 'more', 'compact', 'correlation', 'matrix', 'with', 'blocks', 'for', 'which', 'and', 'where', 'these', 'cross', 'correlation', 'matrices', 'have', 'exact', 'dimension', 'but', 'since', 'the', 'eigenvalues', 'of', 'are', 'softly', 'thresholded', 'to', 'zero', 'or', 'one', 'by', 'the', 'regularization', 'the', 'effective', 'dimension', 'is', 'this', 'dimensionality', 'will', 'be', 'used', 'as', 'the', 'dimension', 'of', 'our', 'gaussian', 'variables', 'for', 'the', 'mdl', 'bic', 'criterion', 'in', 'section', 'efficient', 'implementation', 'direct', 'manipulation', 'of', 'matrices', 'would', 'lead', 'to', 'algorithms', 'that', 'scale', 'as', 'gram', 'matrices', 'however', 'are', 'known', 'to', 'be', 'well', 'approximated', 'by', 'matrices', 'of', 'low', 'rank', 'the', 'approximation', 'is', 'exact', 'when', 'the', 'feature', 'space', 'has', 'finite', 'dimension', 'eg', 'with', 'discrete', 'kernels', 'and', 'can', 'be', 'chosen', 'less', 'than', 'in', 'the', 'case', 'of', 'continuous', 'data', 'with', 'the', 'gaussian', 'kernel', 'we', 'have', 'shown', 'that', 'can', 'be', 'chosen', 'to', 'be', 'upper', 'bounded', 'by', 'constant', 'independent', 'of', 'finding', 'low', 'rank', 'decomposition', 'can', 'thus', 'be', 'done', 'through', 'incom', 'for', 'detailed', 'treatment', 'of', 'this', 'issue', 'plete', 'cholesky', 'decomposition', 'in', 'linear', 'time', 'in', 'see', 'using', 'the', 'incomplete', 'cholesky', 'decomposition', 'for', 'each', 'matrix', 'we', 'obtain', 'the', 'factor', 'ization', 'where', 'is', 'an', 'matrix', 'with', 'rank', 'where', 'we', 'perform', 'singular', 'value', 'decomposition', 'of', 'to', 'obtain', 'an', 'matrix', 'with', 'orthogonal', 'columns', 'ie', 'such', 'that', 'and', 'an', 'diagonal', 'matrix', 'such', 'that', 'where', 'where', 'is', 'the', 'diagonal', 'matrix', 'we', 'have', 'to', 'its', 'obtained', 'from', 'the', 'diagonal', 'matrix', 'by', 'applying', 'the', 'function', 'elements', 'thus', 'has', 'correlation', 'matrix', 'with', 'blocks', 'in', 'the', 'new', 'basis', 'defined', 'by', 'the', 'columns', 'of', 'the', 'matrices', 'and', 'these', 'blocks', 'will', 'be', 'used', 'to', 'compute', 'the', 'various', 'mutual', 'information', 'terms', 'kgv', 'mutual', 'information', 'we', 'now', 'show', 'how', 'to', 'compute', 'the', 'mutual', 'information', 'between', 'link', 'with', 'the', 'mutual', 'information', 'of', 'the', 'original', 'variables', 'and', 'we', 'make', 'let', 'be', 'jointly', 'gaussian', 'random', 'vectors', 'with', 'covariance', 'matrix', 'defined', 'in', 'terms', 'of', 'blocks', 'the', 'mutual', 'information', 'between', 'the', 'variables', 'is', 'equal', 'to', 'see', 'eg', 'where', 'denotes', 'the', 'determinant', 'of', 'the', 'matrix', 'the', 'ratio', 'of', 'determinants', 'in', 'this', 'expression', 'is', 'usually', 'referred', 'to', 'as', 'the', 'generalized', 'variance', 'and', 'is', 'independent', 'of', 'the', 'basis', 'which', 'is', 'chosen', 'to', 'compute', 'following', 'eq', 'the', 'mutual', 'information', 'between', 'the', 'distribution', 'of', 'is', 'equal', 'to', 'which', 'depends', 'solely', 'on', 'we', 'refer', 'to', 'this', 'quantity', 'as', 'the', 'mutual', 'information', 'kgv', 'stands', 'for', 'kernel', 'generalized', 'variance', 'it', 'is', 'always', 'nonnegative', 'and', 'can', 'also', 'be', 'defined', 'for', 'partitions', 'of', 'the', 'variables', 'into', 'subsets', 'by', 'simply', 'partitioning', 'the', 'correlation', 'matrix', 'accordingly', 'the', 'kgv', 'has', 'an', 'interesting', 'relationship', 'to', 'the', 'mutual', 'information', 'among', 'the', 'original', 'variables', 'in', 'particular', 'as', 'shown', 'in', 'in', 'the', 'case', 'of', 'two', 'discrete', 'variables', 'the', 'kgv', 'is', 'equal', 'to', 'the', 'mutual', 'information', 'up', 'to', 'second', 'order', 'when', 'expanding', 'around', 'the', 'manifold', 'of', 'distributions', 'that', 'factorize', 'in', 'the', 'trivial', 'graphical', 'model', 'ie', 'with', 'independent', 'components', 'moreover', 'in', 'the', 'case', 'of', 'continuous', 'variables', 'when', 'the', 'width', 'of', 'the', 'gaussian', 'kernel', 'tend', 'to', 'zero', 'the', 'kgv', 'necessarily', 'tends', 'to', 'limit', 'and', 'also', 'provides', 'second', 'order', 'expansion', 'of', 'the', 'mutual', 'information', 'around', 'independence', 'this', 'suggests', 'that', 'the', 'kgv', 'mutual', 'information', 'might', 'also', 'provide', 'useful', 'computationally', 'tractable', 'surrogate', 'for', 'the', 'mutual', 'information', 'more', 'generally', 'and', 'in', 'particular', 'substitute', 'for', 'mutual', 'information', 'terms', 'in', 'objective', 'functions', 'for', 'model', 'selection', 'where', 'even', 'rough', 'approximation', 'might', 'suffice', 'to', 'rank', 'models', 'in', 'the', 'remainder', 'of', 'the', 'paper', 'we', 'investigate', 'this', 'possibility', 'empirically', 'structure', 'learning', 'using', 'local', 'search', 'in', 'this', 'approach', 'an', 'objective', 'function', 'measures', 'the', 'goodness', 'of', 'fit', 'of', 'the', 'directed', 'graphical', 'model', 'and', 'is', 'minimized', 'the', 'mdl', 'bic', 'objective', 'function', 'for', 'our', 'gaussian', 'variables', 'is', 'easily', 'derived', 'let', 'be', 'the', 'set', 'of', 'parents', 'of', 'node', 'in', 'we', 'have', 'with', 'given', 'the', 'scoring', 'metric', 'we', 'are', 'faced', 'with', 'an', 'np', 'where', 'hard', 'optimization', 'problem', 'on', 'the', 'space', 'of', 'directed', 'acyclic', 'graphs', 'because', 'the', 'score', 'decomposes', 'as', 'sum', 'of', 'local', 'scores', 'local', 'greedy', 'search', 'heuristics', 'are', 'usually', 'exploited', 'we', 'adopt', 'such', 'heuristics', 'in', 'our', 'simulations', 'using', 'hillclimbing', 'it', 'is', 'also', 'possible', 'to', 'use', 'markov', 'chain', 'monte', 'carlo', 'mcmc', 'techniques', 'to', 'sample', 'from', 'the', 'posterior', 'distribution', 'defined', 'by', 'within', 'our', 'framework', 'this', 'would', 'in', 'principle', 'allow', 'us', 'to', 'output', 'several', 'high', 'scoring', 'networks', 'conditional', 'independence', 'tests', 'using', 'kgv', 'in', 'this', 'section', 'we', 'indicate', 'how', 'conditional', 'independence', 'tests', 'can', 'be', 'performed', 'using', 'the', 'kgv', 'and', 'show', 'how', 'these', 'tests', 'can', 'be', 'used', 'to', 'estimate', 'markov', 'blankets', 'of', 'nodes', 'likelihood', 'ratio', 'criterion', 'in', 'the', 'case', 'of', 'marginal', 'independence', 'the', 'likelihood', 'ratio', 'criterion', 'is', 'exactly', 'equal', 'to', 'power', 'of', 'the', 'mutual', 'information', 'see', 'eg', 'in', 'the', 'case', 'of', 'gaussian', 'variables', 'this', 'generalizes', 'easily', 'to', 'conditional', 'independence', 'where', 'the', 'likelihood', 'criterion', 'to', 'test', 'the', 'conditional', 'independence', 'of', 'and', 'given', 'is', 'equal', 'to', 'ratio', 'where', 'is', 'the', 'number', 'of', 'samples', 'and', 'the', 'mutual', 'information', 'terms', 'are', 'computed', 'using', 'empirical', 'distributions', 'applied', 'to', 'our', 'gaussian', 'variables', 'we', 'obtain', 'test', 'statistic', 'based', 'on', 'linear', 'combination', 'theoretical', 'threshof', 'kgv', 'mutual', 'information', 'terms', 'old', 'values', 'exist', 'for', 'conditional', 'independence', 'tests', 'with', 'gaussian', 'variables', 'but', 'instead', 'we', 'prefer', 'to', 'use', 'the', 'value', 'given', 'by', 'the', 'mdl', 'bic', 'criterion', 'ie', 'where', 'and', 'are', 'the', 'dimensions', 'of', 'the', 'gaussians', 'so', 'that', 'the', 'same', 'decision', 'regarding', 'conditional', 'independence', 'is', 'made', 'in', 'the', 'two', 'approaches', 'scoring', 'metric', 'or', 'independence', 'tests', 'markov', 'blankets', 'for', 'gaussian', 'variables', 'it', 'is', 'well', 'known', 'that', 'some', 'conditional', 'independencies', 'can', 'be', 'read', 'out', 'from', 'the', 'inverse', 'of', 'the', 'joint', 'covariance', 'matrix', 'more', 'precisely', 'if', 'are', 'jointly', 'gaussian', 'random', 'vectors', 'with', 'dimensions', 'and', 'with', 'covari', 'ance', 'matrix', 'defined', 'in', 'terms', 'of', 'blocks', 'then', 'and', 'are', 'independent', 'given', 'all', 'the', 'other', 'variables', 'if', 'and', 'only', 'if', 'the', 'block', 'of', 'is', 'equal', 'to', 'zero', 'thus', 'in', 'the', 'sample', 'case', 'we', 'can', 'read', 'out', 'the', 'edges', 'of', 'the', 'undirected', 'model', 'directly', 'from', 'with', 'the', 'threshold', 'value', 'using', 'the', 'test', 'statistic', 'applied', 'to', 'the', 'variables', 'and', 'for', 'all', 'pairs', 'of', 'nodes', 'we', 'can', 'find', 'an', 'undirected', 'graphical', 'model', 'in', 'polynomial', 'time', 'and', 'thus', 'set', 'of', 'markov', 'blankets', 'we', 'may', 'also', 'be', 'interested', 'in', 'constructing', 'directed', 'model', 'from', 'the', 'markov', 'blankets', 'however', 'this', 'transformation', 'is', 'not', 'always', 'possible', 'consequently', 'most', 'approaches', 'use', 'heuristics', 'to', 'define', 'directed', 'model', 'from', 'set', 'of', 'conditional', 'independencies', 'alternatively', 'as', 'pruning', 'step', 'in', 'learning', 'directed', 'graphical', 'model', 'the', 'markov', 'blanket', 'can', 'be', 'safely', 'used', 'by', 'only', 'considering', 'directed', 'models', 'whose', 'moral', 'graph', 'is', 'covered', 'by', 'the', 'undirected', 'graph', 'experiments', 'we', 'compare', 'the', 'performance', 'of', 'three', 'hillclimbing', 'algorithms', 'for', 'directed', 'graphical', 'modmetric', 'els', 'one', 'using', 'the', 'kgv', 'metric', 'with', 'and', 'one', 'using', 'the', 'mdl', 'bic', 'of', 'and', 'one', 'using', 'the', 'bde', 'metric', 'of', 'with', 'equivalent', 'prior', 'sample', 'size', 'when', 'the', 'domain', 'includes', 'continuous', 'variables', 'we', 'used', 'two', 'discretization', 'strategies', 'the', 'first', 'one', 'is', 'to', 'use', 'means', 'with', 'given', 'number', 'of', 'clusters', 'the', 'second', 'one', 'uses', 'the', 'adaptive', 'discretization', 'scheme', 'for', 'the', 'mdl', 'bic', 'scoring', 'metric', 'of', 'also', 'to', 'parameterize', 'the', 'local', 'conditional', 'probabilities', 'we', 'used', 'mixture', 'models', 'mixture', 'of', 'gaussians', 'mixture', 'of', 'softmax', 'regressions', 'mixture', 'of', 'linear', 'regressions', 'which', 'provide', 'enough', 'flexibility', 'at', 'reasonable', 'cost', 'these', 'models', 'were', 'fitted', 'using', 'penalized', 'maximum', 'likelihood', 'and', 'invoking', 'the', 'em', 'algorithm', 'whenever', 'necessary', 'the', 'number', 'of', 'mixture', 'components', 'was', 'less', 'than', 'four', 'and', 'determined', 'using', 'the', 'minimum', 'description', 'length', 'mdl', 'principle', 'when', 'the', 'true', 'generating', 'network', 'is', 'known', 'we', 'measure', 'the', 'performance', 'of', 'algorithms', 'by', 'the', 'kl', 'divergence', 'to', 'the', 'true', 'distribution', 'otherwise', 'we', 'report', 'log', 'likelihood', 'on', 'held', 'out', 'test', 'data', 'we', 'use', 'as', 'baseline', 'the', 'log', 'likelihood', 'for', 'the', 'maximum', 'likelihood', 'solution', 'to', 'model', 'with', 'independent', 'components', 'and', 'multinomial', 'or', 'gaussian', 'densities', 'as', 'appropriate', 'ie', 'for', 'discrete', 'and', 'continuous', 'variables', 'respectively', 'toy', 'examples', 'we', 'tested', 'all', 'three', 'algorithms', 'on', 'very', 'simple', 'generative', 'model', 'on', 'binary', 'nodes', 'where', 'nodes', 'through', 'point', 'to', 'node', 'for', 'each', 'assignment', 'of', 'the', 'parents', 'we', 'set', 'by', 'sampling', 'uniformly', 'at', 'random', 'in', 'we', 'also', 'studied', 'linear', 'gaussian', 'generative', 'model', 'with', 'the', 'identical', 'topology', 'with', 'regression', 'weights', 'chosen', 'uniformly', 'at', 'random', 'in', 'we', 'generated', 'samples', 'we', 'report', 'average', 'results', 'over', 'replications', 'in', 'figure', 'left', 'for', 'ranging', 'from', 'to', 'we', 'see', 'that', 'on', 'the', 'discrete', 'networks', 'the', 'performance', 'of', 'all', 'three', 'algorithms', 'is', 'similar', 'degrading', 'slightly', 'as', 'increases', 'on', 'the', 'linear', 'networks', 'on', 'the', 'other', 'hand', 'the', 'discretization', 'methods', 'degrade', 'significantly', 'as', 'increases', 'the', 'kgv', 'approach', 'is', 'the', 'only', 'approach', 'of', 'the', 'three', 'capable', 'of', 'discovering', 'these', 'simple', 'dependencies', 'in', 'both', 'kinds', 'of', 'networks', 'discrete', 'networks', 'we', 'used', 'three', 'networks', 'commonly', 'used', 'as', 'benchmarks', 'the', 'larm', 'network', 'variables', 'the', 'nsurance', 'network', 'variables', 'and', 'the', 'ailfinder', 'net', 'work', 'variables', 'we', 'tested', 'various', 'numbers', 'of', 'samples', 'we', 'performed', 'replications', 'and', 'report', 'average', 'results', 'in', 'figure', 'right', 'we', 'see', 'that', 'the', 'performance', 'of', 'our', 'metric', 'lies', 'between', 'the', 'approximate', 'bayesian', 'bic', 'metric', 'and', 'the', 'full', 'bayesian', 'bde', 'available', 'at', 'http', 'wwwcshujiacil', 'labs', 'compbio', 'repository', 'network', 'larm', 'nsurance', 'ailfinder', 'bic', 'bde', 'kgv', 'figure', 'top', 'left', 'kl', 'divergence', 'vs', 'size', 'of', 'discrete', 'network', 'kgv', 'plain', 'bde', 'dashed', 'mdl', 'bic', 'dotted', 'bottom', 'left', 'kl', 'divergence', 'vs', 'size', 'of', 'linear', 'gaussian', 'network', 'kgv', 'plain', 'bde', 'with', 'discretized', 'data', 'dashed', 'mdl', 'bic', 'with', 'discretized', 'data', 'dotted', 'mdl', 'bic', 'with', 'adaptive', 'discretization', 'dotted', 'right', 'kl', 'divergence', 'for', 'discrete', 'network', 'benchmarks', 'network', 'balone', 'ehicle', 'ima', 'australian', 'reast', 'balance', 'ousing', 'ars', 'leve', 'eart', 'kgv', 'table', 'performance', 'for', 'hybrid', 'networks', 'is', 'the', 'number', 'of', 'samples', 'and', 'and', 'are', 'the', 'number', 'of', 'discrete', 'and', 'continuous', 'variables', 'respectively', 'the', 'best', 'performance', 'in', 'each', 'row', 'is', 'indicated', 'in', 'bold', 'font', 'metric', 'thus', 'the', 'performance', 'of', 'the', 'new', 'metric', 'appears', 'to', 'be', 'competitive', 'with', 'standard', 'metrics', 'for', 'discrete', 'data', 'providing', 'some', 'assurance', 'that', 'even', 'in', 'this', 'case', 'pairwise', 'sufficient', 'statistics', 'in', 'feature', 'space', 'seem', 'to', 'provide', 'reasonable', 'of', 'bayesian', 'network', 'structure', 'hybrid', 'networks', 'it', 'is', 'the', 'case', 'of', 'hybrid', 'discrete', 'continuous', 'networks', 'that', 'is', 'our', 'principal', 'interestin', 'this', 'case', 'the', 'kgv', 'metric', 'can', 'be', 'applied', 'directly', 'without', 'discretization', 'of', 'the', 'continuous', 'variables', 'we', 'investigated', 'performance', 'on', 'several', 'hybrid', 'datasets', 'from', 'the', 'uci', 'machine', 'learning', 'repository', 'dividing', 'them', 'into', 'two', 'subsets', 'for', 'training', 'and', 'for', 'testing', 'we', 'also', 'log', 'transformed', 'all', 'continuous', 'variables', 'that', 'represent', 'rates', 'or', 'counts', 'we', 'report', 'average', 'results', 'over', 'replications', 'in', 'table', 'for', 'the', 'kgv', 'metric', 'and', 'for', 'the', 'bde', 'variables', 'are', 'discretized', 'using', 'means', 'with', 'clusters', 'or', 'clusters', 'we', 'see', 'that', 'although', 'the', 'bde', 'methods', 'perform', 'well', 'in', 'some', 'problems', 'their', 'performance', 'overall', 'is', 'not', 'as', 'consistent', 'as', 'that', 'of', 'the', 'kgv', 'metric', 'conclusion', 'we', 'have', 'presented', 'general', 'method', 'for', 'learning', 'the', 'structure', 'of', 'graphical', 'models', 'based', 'on', 'treating', 'variables', 'as', 'gaussians', 'in', 'high', 'dimensional', 'feature', 'space', 'the', 'method', 'seamlessly', 'integrates', 'discrete', 'and', 'continuous', 'variables', 'in', 'unified', 'framework', 'and', 'can', 'provide', 'improvements', 'in', 'performance', 'when', 'compared', 'to', 'approaches', 'based', 'on', 'discretization', 'of', 'continuous', 'variables', 'the', 'method', 'also', 'has', 'appealing', 'computational', 'properties', 'in', 'particular', 'the', 'gaussianity', 'assumption', 'enables', 'us', 'make', 'only', 'single', 'pass', 'over', 'the', 'data', 'in', 'order', 'to', 'compute', 'the', 'pairwise', 'sufficient', 'statistics', 'the', 'gaussianity', 'assumption', 'also', 'provides', 'direct', 'way', 'to', 'approximate', 'markov', 'blankets', 'for', 'undirected', 'graphical', 'models', 'based', 'on', 'the', 'classical', 'link', 'between', 'conditional', 'independence', 'and', 'zeros', 'in', 'the', 'precision', 'matrix', 'while', 'the', 'use', 'of', 'the', 'kgv', 'as', 'scoring', 'metric', 'is', 'inspired', 'by', 'the', 'relationship', 'between', 'the', 'kgv', 'and', 'the', 'mutual', 'information', 'it', 'must', 'be', 'emphasized', 'that', 'this', 'relationship', 'is', 'local', 'one', 'based', 'on', 'an', 'expansion', 'of', 'the', 'mutual', 'information', 'around', 'independence', 'while', 'our', 'empirical', 'results', 'suggest', 'that', 'the', 'kgv', 'is', 'also', 'an', 'effective', 'surrogate', 'for', 'the', 'mutual', 'information', 'more', 'generally', 'further', 'theoretical', 'work', 'is', 'needed', 'to', 'provide', 'deeper', 'understanding', 'of', 'the', 'kgv', 'in', 'models', 'that', 'are', 'far', 'from', 'independence', 'finally', 'our', 'algorithms', 'have', 'free', 'parameters', 'in', 'particular', 'the', 'regularization', 'parameter', 'and', 'the', 'width', 'of', 'the', 'gaussian', 'kernel', 'for', 'continuous', 'variables', 'although', 'the', 'performance', 'is', 'empirically', 'robust', 'to', 'the', 'setting', 'of', 'these', 'parameters', 'learning', 'those', 'parameters', 'from', 'data', 'would', 'not', 'only', 'provide', 'better', 'and', 'more', 'consistent', 'performance', 'but', 'it', 'would', 'also', 'provide', 'principled', 'way', 'to', 'learn', 'graphical', 'models', 'with', 'local', 'structure', 'acknowledgments', 'the', 'simulations', 'were', 'performed', 'using', 'kevin', 'murphys', 'bayes', 'net', 'toolbox', 'for', 'matlab', 'we', 'would', 'like', 'to', 'acknowledge', 'support', 'from', 'nsf', 'grant', 'iis', 'onr', 'muri', 'and', 'grant', 'from', 'intel', 'corporation', 'references', 'heckerman', 'geiger', 'and', 'chickering', 'learning', 'bayesian', 'networks', 'the', 'combination', 'of', 'knowledge', 'and', 'statistical', 'data', 'machine', 'learning', 'lam', 'and', 'bacchus', 'learning', 'bayesian', 'belief', 'networks', 'an', 'approach', 'based', 'on', 'the', 'mdl', 'principle', 'computational', 'intelligence', 'geiger', 'and', 'heckerman', 'learning', 'gaussian', 'networks', 'in', 'proc', 'uai', 'pearl', 'causality', 'models', 'reasoning', 'and', 'inference', 'cambridge', 'university', 'press', 'della', 'pietra', 'della', 'pietra', 'and', 'lafferty', 'inducing', 'features', 'of', 'random', 'fields', 'ieee', 'trans', 'pami', 'bach', 'and', 'jordan', 'kernel', 'independent', 'component', 'analysis', 'journal', 'of', 'machine', 'learning', 'research', 'lauritzen', 'graphical', 'models', 'clarendon', 'press', 'scholkopf', 'and', 'smola', 'learning', 'with', 'kernels', 'mit', 'press', 'cover', 'and', 'thomas', 'elements', 'of', 'information', 'theory', 'wiley', 'sons', 'chickering', 'learning', 'bayesian', 'networks', 'is', 'np', 'complete', 'in', 'learning', 'from', 'data', 'artificial', 'intelligence', 'and', 'statistics', 'springer', 'verlag', 'anderson', 'an', 'introduction', 'to', 'multivariate', 'statistical', 'analysis', 'wiley', 'sons', 'cowell', 'conditions', 'under', 'which', 'conditional', 'independence', 'and', 'scoring', 'methods', 'lead', 'to', 'identical', 'selection', 'of', 'bayesian', 'network', 'models', 'in', 'proc', 'uai', 'margaritis', 'and', 'thrun', 'bayesian', 'network', 'induction', 'via', 'local', 'neighborhoods', 'in', 'adv', 'nips', 'friedman', 'and', 'goldszmidt', 'discretizing', 'continuous', 'attributes', 'while', 'learning', 'bayesian', 'networks', 'in', 'proc', 'icml', 'friedman', 'and', 'goldszmidt', 'learning', 'bayesian', 'networks', 'with', 'local', 'structure', 'in', 'learning', 'in', 'graphical', 'models', 'mit', 'press']]"
     ]
    },
    {
     "name": "stdout",
     "output_type": "stream",
     "text": [
      "\n"
     ]
    }
   ],
   "source": [
    "import gensim\n",
    "from gensim.utils import simple_preprocess\n",
    "def sent_to_words(sentences):\n",
    "    for sentence in sentences:\n",
    "        yield(gensim.utils.simple_preprocess(str(sentence), deacc=True))  # deacc=True removes punctuations\n",
    "data = papers.paper_text_processed.values.tolist()\n",
    "data_words = list(sent_to_words(data))\n",
    "print(data_words[:1])"
   ]
  },
  {
   "cell_type": "code",
   "execution_count": 12,
   "metadata": {},
   "outputs": [],
   "source": [
    "# Build the bigram and trigram models\n",
    "bigram = gensim.models.Phrases(data_words, min_count=5, threshold=100) # higher threshold fewer phrases.\n",
    "trigram = gensim.models.Phrases(bigram[data_words], threshold=100)\n",
    "# Faster way to get a sentence clubbed as a trigram/bigram\n",
    "bigram_mod = gensim.models.phrases.Phraser(bigram)\n",
    "trigram_mod = gensim.models.phrases.Phraser(trigram)"
   ]
  },
  {
   "cell_type": "code",
   "execution_count": 13,
   "metadata": {},
   "outputs": [],
   "source": [
    "# NLTK Stop words\n",
    "# import nltk\n",
    "# nltk.download('stopwords')\n",
    "from nltk.corpus import stopwords\n",
    "stop_words = stopwords.words('english')\n",
    "stop_words.extend(['from', 'subject', 're', 'edu', 'use'])\n",
    "# Define functions for stopwords, bigrams, trigrams and lemmatization\n",
    "def remove_stopwords(texts):\n",
    "    return [[word for word in simple_preprocess(str(doc)) if word not in stop_words] for doc in texts]\n",
    "def make_bigrams(texts):\n",
    "    return [bigram_mod[doc] for doc in texts]\n",
    "def make_trigrams(texts):\n",
    "    return [trigram_mod[bigram_mod[doc]] for doc in texts]\n",
    "def lemmatization(texts, allowed_postags=['NOUN', 'ADJ', 'VERB', 'ADV']):\n",
    "    \"\"\"https://spacy.io/api/annotation\"\"\"\n",
    "    texts_out = []\n",
    "    for sent in texts:\n",
    "        doc = nlp(\" \".join(sent)) \n",
    "        texts_out.append([token.lemma_ for token in doc if token.pos_ in allowed_postags])\n",
    "    return texts_out"
   ]
  },
  {
   "cell_type": "code",
   "execution_count": 14,
   "metadata": {},
   "outputs": [
    {
     "name": "stdout",
     "output_type": "stream",
     "text": [
      "[['learn', 'graphical_model', 'mercer', 'kernel', 'francis', 'bach', 'division', 'computer_science', 'university', 'california', 'berkeley', 'ca', 'fbach', 'csberkeleyedu', 'michael', 'jordan', 'computer_science', 'statistic', 'university', 'california', 'berkeley', 'ca', 'jordan', 'csberkeleyedu', 'abstract', 'present', 'class', 'algorithm', 'learn', 'structure', 'graphical_model', 'datum', 'algorithm', 'base', 'measure', 'know', 'kernel', 'generalized_variance', 'kgv', 'essentially', 'allow', 'treat', 'variable', 'equal', 'foot', 'gaussian', 'feature_space', 'obtain', 'mercer', 'kernel', 'thus', 'able', 'learn', 'hybrid', 'graph', 'involve', 'discrete', 'continuous_variables', 'arbitrary', 'type', 'explore', 'computational', 'property', 'approach', 'show', 'kernel', 'trick', 'compute', 'relevant', 'statistic', 'linear', 'time', 'illustrate', 'framework', 'experiment', 'involve', 'discrete', 'continuous', 'datum', 'introduction', 'graphical_model', 'compact', 'efficient', 'way', 'represent', 'joint', 'probability', 'distribution', 'set', 'variable', 'recent', 'year', 'grow', 'interest', 'learn', 'structure', 'graphical_model', 'directly', 'data', 'direct', 'case', 'undirected', 'case', 'current', 'algorithm', 'deal', 'reasonably', 'well', 'model', 'involve', 'discrete', 'variable', 'gaussian', 'variable', 'limited', 'interaction', 'discrete', 'neighbor', 'however', 'application', 'general', 'hybrid', 'graphs', 'domain', 'general', 'continuous_variable', 'generally', 'base', 'discretization', 'paper', 'present', 'general', 'framework', 'apply', 'type', 'variable', 'make', 'relationship', 'kernel', 'base', 'measure', 'generalized_variance', 'feature_space', 'quantity', 'mutual_information', 'pairwise', 'independence', 'input', 'space', 'particular', 'suppose', 'variable', 'domain', 'map', 'high_dimensional', 'space', 'map', 'let', 'consider', 'set', 'random', 'variable', 'feature_space', 'suppose', 'compute', 'mean', 'covariance', 'matrix', 'variable', 'consider', 'set', 'gaussian', 'variable', 'mean', 'covariance', 'show', 'canonical', 'correlation', 'analysis', 'yield', 'measure', 'know', 'kernel', 'generalized_variance', 'characterize', 'pairwise', 'independence', 'original', 'variable', 'closely', 'related', 'mutual_information', 'original', 'variable', 'link', 'lead', 'new', 'set', 'algorithm', 'independent_component', 'analysis', 'current', 'paper', 'pursue', 'idea', 'different', 'direction', 'consider', 'kernel', 'generalized_variance', 'surrogate', 'mutual_information', 'model', 'selection', 'problem', 'effectively', 'map', 'datum', 'feature_space', 'set', 'mercer', 'kernel', 'different', 'kernel', 'different', 'datum', 'type', 'treat', 'datum', 'equal', 'foot', 'gaussian', 'feature_space', 'briefly', 'review', 'structure', 'learning', 'problem', 'section', 'section', 'section', 'show', 'classical', 'approach', 'problem', 'base', 'conditional_independence', 'test', 'extend', 'kernel', 'base', 'approach', 'section', 'show', 'make', 'kernel', 'trick', 'able', 'compute', 'sample', 'covariance', 'matrix', 'feature_space', 'linear', 'time', 'number', 'sample', 'section', 'present', 'experimental_result', 'learn', 'graphical_model', 'structure', 'learn', 'algorithm', 'generally', 'equivalent', 'interpretation', 'graphical_model', 'compact', 'factorization', 'joint', 'probability', 'distribution', 'function', 'lead', 'local', 'search', 'algorithm', 'conditional_independence', 'relationship', 'suggest', 'method', 'base', 'conditional_independence', 'test', 'local', 'search', 'approach', 'structure', 'learn', 'explicitly', 'cast', 'model', 'selection', 'problem', 'direct', 'set', 'likelihood', 'penalize', 'model', 'selection', 'term', 'equal', 'time', 'number', 'parameter', 'necessary', 'encode', 'local', 'distribution', 'likelihood', 'term', 'decompose', 'express', 'follow', 'set', 'parent', 'node', 'graph', 'score', 'empirical', 'mutual_information', 'variable', 'vector', 'mutual_information', 'term', 'number', 'parameter', 'local', 'conditional', 'distribution', 'easily', 'computable', 'discrete', 'model', 'well', 'gaussian', 'model', 'alternatively', 'full', 'bayesian', 'framework', 'assumption', 'paramet', 'independence', 'paramet', 'modularity', 'prior', 'distribution', 'dirichlet', 'discrete', 'network', 'inverse', 'wishart', 'gaussian', 'network', 'log', 'posterior', 'probability', 'graph', 'give', 'datum', 'decompose', 'similar', 'way', 'give', 'approach', 'base', 'assumption', 'gaussianity', 'feature_space', 'could', 'base', 'development', 'approach', 'full', 'bayesian', 'approach', 'paper', 'extend', 'mdl_bic', 'approach', 'detailed', 'section', 'conditional_independence', 'test', 'approach', 'conditional_independence', 'test', 'perform', 'constrain', 'structure', 'possible', 'graphs', 'undirected', 'model', 'go', 'graph', 'set', 'conditional', 'independence', 'relatively', 'easy', 'edge', 'independent', 'give', 'variable', 'section', 'show', 'approach', 'could', 'use', 'perform', 'independence_test', 'learn', 'undirected', 'graphical', 'model', 'also', 'show', 'approach', 'use', 'prune', 'search', 'space', 'local', 'search', 'direct', 'model', 'gaussian', 'feature_space', 'section', 'introduce', 'gaussianity', 'assumption', 'show', 'approximate', 'mutual_information', 'require', 'structure', 'learn', 'algorithm', 'mercer', 'kernel', 'mercer', 'kernel', 'space', 'function', 'set', 'point', 'matrix', 'define', 'positive', 'semidefinite', 'matrix', 'usually', 'refer', 'gram', 'matrix', 'point', 'give', 'mercer', 'kernel', 'possible', 'find', 'space', 'map', 'dot', 'product', 'see_eg', 'space', 'usually', 'refer', 'feature_space', 'map', 'feature', 'map', 'notation', 'denote', 'dot', 'product', 'feature_space', 'notation', 'denote', 'representative', 'dual', 'space', 'also', 'trivial', 'kernel', 'discrete', 'variable', 'take', 'value', 'correspond', 'feature_space', 'dimension', 'feature', 'map', 'note', 'mapping', 'correspond', 'usual', 'embed', 'multinomial', 'variable', 'order', 'vector', 'space', 'continuous_variables', 'gaussian', 'kernel', 'feature_space', 'infinite', 'dimension', 'show', 'datum', 'occupy', 'small', 'linear', 'manifold', 'linear', 'subspace', 'determine', 'adaptively', 'linear', 'time', 'note', 'correspond', 'simply', 'model', 'alternative', 'kernel', 'data', 'gaussian', 'input', 'space', 'notation', 'let', 'random', 'variable', 'value', 'space', 'let', 'assign', 'mercer', 'kernel', 'input', 'space', 'feature_space', 'feature', 'map', 'random', 'vector', 'feature', 'image', 'covariance', 'matrix', 'define', 'block', 'block', 'covariance', 'matrix', 'let', 'denote', 'jointly', 'gaussian', 'vector', 'mean', 'covariance', 'vector', 'use', 'random', 'vector', 'learn', 'graphical', 'model', 'structure', 'base', 'note', 'sufficient_statistics', 'vector', 'inherently', 'pairwise', 'dependency', 'involve', 'strictly', 'variable', 'model', 'explicitly', 'make', 'score', 'metric', 'easy', 'compute', 'section', 'present', 'empirical', 'evidence', 'good', 'model', 'learn', 'use', 'pairwise', 'information', 'computing', 'sample', 'covariance', 'use', 'kernel', 'trick', 'mapping', 'give', 'random', 'sample', 'element', 'assume', 'feature', 'space', 'define', 'element', 'datum', 'feature_space', 'center', 'sample', 'covariance', 'matrix', 'equal', 'note', 'gaussian', 'covariance', 'matrix', 'variance', 'direction', 'orthogonal', 'image', 'datum', 'consequently', 'order', 'compute', 'mutual_information', 'need', 'compute', 'covariance', 'matrix', 'projection', 'linear', 'span', 'datum', 'vector', 'zero', 'position', 'gram', 'denote', 'matrix', 'center', 'point', 'call', 'center', 'gram', 'matrix', 'component', 'define', 'gram', 'matrix', 'original', 'non', 'center', 'point', 'matrix', 'compose', 'one', 'eq', 'see', 'sample', 'covariance', 'matrix', 'datum', 'basis', 'block', 'regularization', 'feature_space', 'infinite', 'dimension', 'case', 'gaussian', 'kernel', 'covariance', 'implicitly', 'fitting', 'kernel', 'method', 'infinite', 'number', 'parameter', 'order', 'avoid', 'overfitte', 'control', 'capacity', 'model', 'regularize', 'smooth', 'gaussian', 'gaussian', 'small', 'variance', 'alternative', 'interpretation', 'detail', 'see', 'let', 'small', 'constant', 'add', 'isotropic', 'gaussian', 'covariance', 'orthonormal', 'basis', 'datum', 'basis', 'covariance', 'gaussian', 'exactly', 'block', 'diagonal', 'matrix', 'consequently', 'regularize', 'gaussian', 'covariance', 'block', 'block', 'small', 'constant', 'lead', 'compact', 'correlation', 'matrix', 'block', 'cross', 'correlation', 'matrix', 'exact', 'dimension', 'eigenvalue', 'softly', 'thresholde', 'regularization', 'effective', 'dimension', 'dimensionality', 'use', 'dimension', 'gaussian', 'variable', 'mdl_bic', 'criterion', 'section', 'efficient', 'implementation', 'direct', 'manipulation', 'matrix', 'would', 'lead', 'algorithm', 'scale', 'gram', 'matrix', 'however', 'know', 'well', 'approximate', 'matrix', 'low', 'rank', 'approximation', 'exact', 'feature_space', 'finite', 'dimension', 'eg', 'discrete', 'kernel', 'choose', 'less', 'case', 'continuous', 'data', 'gaussian', 'kernel', 'show', 'choose', 'upper', 'bounded', 'constant', 'independent', 'find', 'low', 'rank', 'decomposition', 'thus', 'do', 'incom', 'detailed', 'treatment', 'issue', 'plete', 'cholesky', 'decomposition', 'linear', 'time', 'see', 'use', 'incomplete', 'cholesky', 'decomposition', 'matrix', 'obtain', 'factor', 'ization', 'matrix', 'rank', 'perform', 'singular', 'value', 'decomposition', 'obtain', 'matrix', 'orthogonal', 'column', 'diagonal', 'matrix', 'diagonal', 'matrix', 'obtain', 'diagonal', 'matrix', 'apply', 'function', 'element', 'thus', 'correlation', 'matrix', 'block', 'new', 'basis', 'define', 'column', 'matrix', 'block', 'use', 'compute', 'various', 'mutual_information', 'term', 'kgv', 'mutual_information', 'show', 'compute', 'mutual_information', 'link', 'mutual_information', 'original', 'variable', 'make', 'let', 'jointly', 'gaussian', 'random', 'vector', 'covariance', 'matrix', 'define', 'term', 'block', 'mutual_information', 'variable', 'equal', 'see_eg', 'denote', 'determinant', 'matrix', 'ratio', 'determinant', 'expression', 'usually', 'refer', 'generalized_variance', 'independent', 'basis', 'choose', 'compute', 'follow', 'eq', 'mutual_information', 'distribution', 'equal', 'depend', 'solely', 'refer', 'quantity', 'mutual_information', 'kgv', 'stand', 'kernel', 'generalized_variance', 'always', 'nonnegative', 'also', 'define', 'partition', 'variable', 'subset', 'simply', 'partition', 'correlation', 'matrix', 'accordingly', 'kgv', 'interesting', 'relationship', 'mutual_information', 'original', 'variable', 'particular', 'show', 'case', 'discrete', 'variable', 'kgv', 'equal', 'mutual_information', 'second', 'order', 'expand', 'manifold', 'distribution', 'factorize', 'trivial', 'graphical', 'model', 'independent', 'component', 'moreover', 'case', 'continuous_variables', 'width', 'gaussian', 'kernel', 'tend', 'kgv', 'necessarily', 'tend', 'limit', 'also', 'provide', 'second', 'order', 'expansion', 'mutual_information', 'independence', 'suggest', 'kgv', 'mutual_information', 'may', 'also', 'provide', 'useful', 'computationally', 'tractable', 'surrogate', 'mutual_information', 'generally', 'particular', 'substitute', 'mutual_information', 'term', 'objective', 'function', 'model', 'selection', 'even', 'rough', 'approximation', 'may', 'suffice', 'rank', 'model', 'remainder', 'paper', 'investigate', 'possibility', 'empirically', 'structure', 'learn', 'use', 'local', 'search', 'approach', 'objective', 'function', 'measure', 'goodness', 'fit', 'direct', 'graphical', 'model', 'minimize', 'objective', 'function', 'gaussian', 'variable', 'easily', 'derive', 'let', 'set', 'parent', 'node', 'give', 'score', 'metric', 'face', 'np', 'hard', 'optimization', 'problem', 'space', 'direct', 'acyclic', 'graphs', 'score', 'decompose', 'sum', 'local', 'score', 'local', 'greedy', 'search', 'heuristic', 'usually', 'exploit', 'adopt', 'heuristic', 'simulation', 'use', 'hillclimbe', 'also', 'possible', 'markov', 'chain', 'monte', 'carlo', 'mcmc', 'technique', 'sample', 'posterior', 'distribution', 'define', 'framework', 'would', 'principle', 'allow', 'output', 'several', 'high', 'scoring', 'network', 'conditional_independence', 'test', 'use', 'kgv', 'section', 'indicate', 'conditional_independence', 'test', 'perform', 'use', 'kgv', 'show', 'test', 'use', 'estimate', 'markov', 'blanket', 'node', 'likelihood', 'ratio', 'criterion', 'case', 'marginal', 'independence', 'likelihood', 'ratio', 'criterion', 'exactly', 'equal', 'power', 'mutual_information', 'see_eg', 'case', 'gaussian', 'variable', 'generalize', 'easily', 'conditional_independence', 'likelihood', 'criterion', 'test', 'conditional_independence', 'give', 'equal', 'ratio', 'number', 'sample', 'mutual_information', 'term', 'compute', 'use', 'empirical', 'distribution', 'apply', 'gaussian', 'variable', 'obtain', 'test', 'statistic', 'base', 'linear', 'combination', 'theoretical', 'threshof', 'kgv', 'mutual_information', 'term', 'old', 'value', 'exist', 'conditional_independence', 'test', 'gaussian', 'variable', 'instead', 'prefer', 'value', 'give', 'criterion', 'dimension', 'gaussian', 'decision', 'regard', 'conditional_independence', 'make', 'approach', 'score', 'metric', 'independence_test', 'markov', 'blanket', 'gaussian', 'variable', 'well', 'know', 'conditional', 'independency', 'read', 'inverse', 'joint', 'covariance', 'matrix', 'precisely', 'jointly', 'gaussian', 'random', 'vector', 'dimension', 'covari', 'ance', 'matrix', 'define', 'term', 'block', 'independent', 'give', 'variable', 'block', 'equal', 'thus', 'sample', 'case', 'read', 'edge', 'undirected', 'model', 'directly', 'threshold', 'value', 'use', 'test', 'statistic', 'apply', 'variable', 'pair', 'node', 'find', 'undirected', 'graphical', 'model', 'polynomial', 'time', 'thus', 'set', 'markov', 'blanket', 'may', 'also', 'interested', 'construct', 'direct', 'model', 'markov', 'blanket', 'however', 'transformation', 'always', 'possible', 'consequently', 'approach', 'heuristic', 'define', 'direct', 'model', 'set', 'conditional', 'independency', 'alternatively', 'prune', 'step', 'learning', 'direct', 'graphical', 'model', 'markov', 'blanket', 'safely', 'use', 'consider', 'direct', 'model', 'moral', 'graph', 'cover', 'undirected', 'graph', 'experiment', 'compare', 'performance', 'hillclimbe', 'algorithm', 'direct', 'graphical', 'modmetric', 'el', 'use', 'kgv', 'metric', 'one', 'use', 'mdl_bic', 'use', 'bde', 'metric', 'equivalent', 'prior', 'sample', 'size', 'domain', 'include', 'continuous_variable', 'use', 'discretization', 'strategy', 'first', 'mean', 'give', 'number', 'cluster', 'second', 'use', 'adaptive', 'discretization', 'scheme', 'score', 'metric', 'also', 'parameterize', 'local', 'conditional', 'probability', 'use', 'mixture', 'model', 'mixture', 'gaussian', 'mixture', 'softmax', 'regression', 'mixture', 'linear', 'regression', 'provide', 'enough', 'flexibility', 'reasonable', 'cost', 'model', 'fit', 'use', 'penalized', 'maximum', 'likelihood', 'invoke', 'algorithm', 'whenever', 'necessary', 'number', 'mixture', 'component', 'less', 'determine', 'use', 'minimum', 'description', 'length', 'mdl', 'principle', 'true', 'generating', 'network', 'know', 'measure', 'performance', 'algorithm', 'kl', 'divergence', 'true', 'distribution', 'otherwise', 'report', 'hold', 'test', 'datum', 'baseline', 'maximum', 'likelihood', 'solution', 'model', 'independent', 'component', 'multinomial', 'gaussian', 'density', 'appropriate', 'discrete', 'continuous_variable', 'respectively', 'toy', 'example', 'test', 'algorithm', 'simple', 'generative', 'model', 'binary', 'node', 'node', 'point', 'node', 'assignment', 'parent', 'set', 'sample', 'uniformly', 'random', 'also', 'study', 'linear', 'gaussian', 'generative', 'model', 'identical', 'topology', 'regression', 'weight', 'choose', 'uniformly', 'random', 'generate', 'sample', 'report', 'average', 'result', 'replication', 'figure', 'leave', 'range', 'see', 'discrete', 'network', 'performance', 'algorithm', 'similar', 'degrade', 'slightly', 'increase', 'linear', 'network', 'hand', 'discretization', 'method', 'degrade', 'significantly', 'increase', 'kgv', 'approach', 'approach', 'capable', 'discover', 'simple', 'dependency', 'kind', 'network', 'discrete', 'network', 'use', 'network', 'commonly', 'use', 'benchmark', 'larm', 'network', 'variable', 'nsurance', 'network', 'variable', 'ailfinder', 'net', 'work', 'variable', 'test', 'various', 'number', 'sample', 'perform', 'replication', 'report', 'average', 'result', 'figure', 'right', 'see', 'performance', 'metric', 'lie', 'approximate', 'bayesian', 'bic', 'metric', 'full', 'bayesian', 'bde', 'available', 'http', 'wwwcshujiacil', 'lab', 'compbio', 'repository', 'network', 'larm', 'nsurance', 'ailfinder', 'bic', 'bde', 'kgv', 'figure', 'top', 'leave', 'kl', 'divergence', 'size', 'discrete', 'network', 'kgv', 'plain', 'bde', 'dash', 'dot', 'bottom', 'leave', 'kl', 'divergence', 'size', 'linear', 'gaussian', 'network', 'kgv', 'plain', 'bde', 'discretize', 'datum', 'dash', 'discretize', 'datum', 'dot', 'adaptive', 'discretization', 'dot', 'right', 'kl', 'divergence', 'discrete', 'network', 'benchmark', 'network', 'balone', 'ehicle', 'be', 'australian', 'reast', 'balance', 'ouse', 'ar', 'leve', 'eart', 'kgv', 'table', 'performance', 'hybrid', 'network', 'number', 'sample', 'number', 'discrete', 'continuous_variable', 'respectively', 'good', 'performance', 'row', 'indicate', 'bold', 'font', 'metric', 'thus', 'performance', 'new', 'metric', 'appear', 'competitive', 'standard', 'metric', 'discrete', 'datum', 'provide', 'assurance', 'even', 'case', 'pairwise', 'sufficient_statistics', 'feature_space', 'seem', 'provide', 'reasonable', 'bayesian', 'network', 'structure', 'hybrid', 'network', 'case', 'hybrid', 'discrete', 'continuous', 'network', 'principal', 'interestin', 'case', 'kgv', 'metric', 'apply', 'directly', 'discretization', 'continuous_variable', 'investigate', 'performance', 'several', 'hybrid', 'dataset', 'uci', 'machine_learne', 'repository', 'divide', 'subset', 'training', 'testing', 'also', 'log', 'transform', 'continuous_variable', 'represent', 'rate', 'count', 'report', 'average', 'result', 'replication', 'table', 'kgv', 'metric', 'bde', 'variable', 'discretize', 'use', 'mean', 'cluster', 'cluster', 'see', 'bde', 'method', 'perform', 'well', 'problem', 'performance', 'overall', 'consistent', 'kgv', 'metric', 'conclusion', 'present', 'general', 'method', 'learn', 'structure', 'graphical_model', 'base', 'treat', 'variable', 'gaussian', 'high_dimensional', 'feature_space', 'method', 'seamlessly', 'integrate', 'discrete', 'continuous_variable', 'unify', 'framework', 'provide', 'improvement', 'performance', 'compare', 'approach', 'base', 'discretization', 'continuous_variables', 'method', 'also', 'appeal', 'computational', 'property', 'particular', 'gaussianity', 'assumption', 'enable', 'make', 'single', 'pass', 'data', 'order', 'compute', 'pairwise', 'sufficient_statistics', 'gaussianity', 'assumption', 'also', 'provide', 'direct', 'way', 'approximate', 'markov', 'blanket', 'undirected', 'graphical_model', 'base', 'classical', 'link', 'conditional_independence', 'zero', 'precision', 'matrix', 'kgv', 'score', 'metric', 'inspired', 'relationship', 'kgv', 'mutual_information', 'must', 'emphasize', 'relationship', 'local', 'base', 'expansion', 'mutual_information', 'independence', 'empirical', 'result', 'suggest', 'kgv', 'also', 'effective', 'surrogate', 'mutual_information', 'generally', 'theoretical', 'work', 'need', 'provide', 'deep', 'understanding', 'kgv', 'model', 'far', 'independence', 'finally', 'algorithm', 'free', 'parameter', 'particular', 'regularization', 'width', 'gaussian', 'kernel', 'continuous_variable', 'performance', 'empirically', 'robust', 'set', 'parameter', 'learn', 'parameter', 'datum', 'would', 'provide', 'well', 'consistent', 'performance', 'would', 'also', 'provide', 'principle', 'way', 'learn', 'graphical_models', 'local', 'structure', 'acknowledgment', 'simulation', 'perform', 'use', 'kevin', 'murphys', 'bay', 'net', 'toolbox', 'matlab', 'would', 'acknowledge', 'support', 'nsf', 'grant', 'onr', 'muri', 'grant', 'intel', 'corporation', 'reference', 'heckerman', 'geiger', 'chickere', 'learn', 'bayesian_networks', 'combination', 'knowledge', 'statistical', 'datum', 'machine_learning', 'lam', 'bacchus', 'learn', 'bayesian', 'belief', 'network', 'approach', 'base', 'mdl', 'principle', 'computational', 'intelligence', 'geiger', 'heckerman', 'learn', 'gaussian', 'network', 'proc', 'uai', 'pearl', 'causality', 'model', 'reason', 'inference', 'cambridge', 'university', 'press', 'della', 'pietra', 'della', 'pietra', 'lafferty', 'induce', 'feature', 'random', 'field', 'ieee', 'tran', 'pami', 'bach', 'jordan', 'kernel', 'independent_component', 'analysis', 'journal', 'machine_learne', 'research', 'lauritzen', 'graphical_model', 'clarendon', 'press', 'scholkopf', 'smola', 'learn', 'kernel', 'cover', 'thomas', 'element', 'information', 'theory', 'wiley', 'son', 'chickere', 'learn', 'bayesian_network', 'np', 'complete', 'learning', 'datum', 'artificial', 'intelligence', 'statistic', 'springer', 'verlag', 'anderson', 'introduction', 'multivariate', 'statistical', 'analysis', 'wiley', 'son', 'cowell', 'condition', 'conditional_independence', 'scoring', 'method', 'lead', 'identical', 'selection', 'bayesian', 'network', 'model', 'proc', 'margaritis', 'thrun', 'bayesian', 'network', 'induction', 'local', 'neighborhood', 'adv', 'nip', 'friedman', 'goldszmidt', 'discretize', 'continuous', 'attribute', 'learn', 'bayesian_networks', 'proc', 'icml', 'friedman', 'goldszmidt', 'learn', 'bayesian_networks', 'local', 'structure', 'learn', 'graphical_model']]"
     ]
    },
    {
     "name": "stdout",
     "output_type": "stream",
     "text": [
      "\n"
     ]
    }
   ],
   "source": [
    "import spacy\n",
    "# Remove Stop Words\n",
    "data_words_nostops = remove_stopwords(data_words)\n",
    "# Form Bigrams\n",
    "data_words_bigrams = make_bigrams(data_words_nostops)\n",
    "# Initialize spacy 'en' model, keeping only tagger component (for efficiency)\n",
    "nlp = spacy.load(\"en_core_web_sm\", disable=['parser', 'ner'])\n",
    "# Do lemmatization keeping only noun, adj, vb, adv\n",
    "data_lemmatized = lemmatization(data_words_bigrams, allowed_postags=['NOUN', 'ADJ', 'VERB', 'ADV'])\n",
    "print(data_lemmatized[:1])"
   ]
  },
  {
   "cell_type": "code",
   "execution_count": 15,
   "metadata": {},
   "outputs": [
    {
     "name": "stdout",
     "output_type": "stream",
     "text": [
      "[[(0, 2), (1, 1), (2, 1), (3, 1), (4, 1), (5, 1), (6, 2), (7, 1), (8, 1), (9, 1), (10, 1), (11, 2), (12, 14), (13, 2), (14, 14), (15, 2), (16, 2), (17, 2), (18, 4), (19, 1), (20, 1), (21, 1), (22, 1), (23, 1), (24, 5), (25, 18), (26, 1), (27, 4), (28, 2), (29, 1), (30, 1), (31, 1), (32, 1), (33, 1), (34, 1), (35, 5), (36, 1), (37, 1), (38, 1), (39, 1), (40, 3), (41, 1), (42, 1), (43, 2), (44, 1), (45, 1), (46, 15), (47, 1), (48, 5), (49, 1), (50, 8), (51, 1), (52, 3), (53, 7), (54, 1), (55, 1), (56, 2), (57, 2), (58, 2), (59, 1), (60, 6), (61, 12), (62, 1), (63, 1), (64, 1), (65, 1), (66, 2), (67, 2), (68, 1), (69, 1), (70, 1), (71, 1), (72, 1), (73, 1), (74, 12), (75, 1), (76, 1), (77, 4), (78, 1), (79, 1), (80, 2), (81, 2), (82, 4), (83, 1), (84, 1), (85, 2), (86, 1), (87, 3), (88, 2), (89, 2), (90, 1), (91, 3), (92, 2), (93, 1), (94, 1), (95, 1), (96, 4), (97, 1), (98, 1), (99, 3), (100, 1), (101, 11), (102, 2), (103, 1), (104, 1), (105, 1), (106, 5), (107, 13), (108, 3), (109, 4), (110, 2), (111, 3), (112, 1), (113, 1), (114, 4), (115, 8), (116, 4), (117, 1), (118, 1), (119, 5), (120, 3), (121, 1), (122, 2), (123, 1), (124, 1), (125, 17), (126, 2), (127, 1), (128, 5), (129, 1), (130, 2), (131, 2), (132, 2), (133, 4), (134, 1), (135, 19), (136, 1), (137, 1), (138, 3), (139, 4), (140, 1), (141, 10), (142, 2), (143, 2), (144, 5), (145, 1), (146, 1), (147, 2), (148, 1), (149, 1), (150, 1), (151, 2), (152, 2), (153, 2), (154, 1), (155, 4), (156, 3), (157, 9), (158, 1), (159, 12), (160, 2), (161, 3), (162, 1), (163, 1), (164, 18), (165, 7), (166, 4), (167, 10), (168, 4), (169, 1), (170, 1), (171, 1), (172, 3), (173, 5), (174, 1), (175, 1), (176, 3), (177, 2), (178, 2), (179, 2), (180, 1), (181, 2), (182, 1), (183, 1), (184, 1), (185, 1), (186, 4), (187, 1), (188, 1), (189, 4), (190, 2), (191, 1), (192, 1), (193, 1), (194, 2), (195, 10), (196, 2), (197, 1), (198, 1), (199, 2), (200, 1), (201, 2), (202, 2), (203, 1), (204, 1), (205, 1), (206, 2), (207, 2), (208, 1), (209, 2), (210, 1), (211, 1), (212, 1), (213, 1), (214, 2), (215, 1), (216, 1), (217, 1), (218, 1), (219, 1), (220, 1), (221, 6), (222, 18), (223, 1), (224, 3), (225, 1), (226, 3), (227, 1), (228, 1), (229, 2), (230, 1), (231, 1), (232, 2), (233, 1), (234, 2), (235, 5), (236, 1), (237, 1), (238, 2), (239, 3), (240, 6), (241, 35), (242, 4), (243, 2), (244, 4), (245, 1), (246, 6), (247, 4), (248, 1), (249, 1), (250, 2), (251, 10), (252, 1), (253, 2), (254, 2), (255, 1), (256, 5), (257, 2), (258, 6), (259, 7), (260, 10), (261, 1), (262, 3), (263, 1), (264, 1), (265, 1), (266, 1), (267, 2), (268, 3), (269, 1), (270, 2), (271, 2), (272, 1), (273, 3), (274, 1), (275, 6), (276, 1), (277, 1), (278, 2), (279, 1), (280, 1), (281, 2), (282, 1), (283, 1), (284, 1), (285, 1), (286, 1), (287, 1), (288, 2), (289, 8), (290, 2), (291, 2), (292, 6), (293, 2), (294, 2), (295, 1), (296, 1), (297, 1), (298, 3), (299, 2), (300, 1), (301, 3), (302, 1), (303, 1), (304, 1), (305, 1), (306, 2), (307, 1), (308, 1), (309, 1), (310, 1), (311, 1), (312, 2), (313, 1), (314, 2), (315, 2), (316, 2), (317, 1), (318, 4), (319, 1), (320, 1), (321, 1), (322, 3), (323, 3), (324, 3), (325, 1), (326, 28), (327, 1), (328, 23), (329, 1), (330, 4), (331, 5), (332, 1), (333, 1), (334, 1), (335, 1), (336, 2), (337, 1), (338, 5), (339, 23), (340, 3), (341, 3), (342, 1), (343, 2), (344, 7), (345, 1), (346, 1), (347, 7), (348, 1), (349, 1), (350, 12), (351, 3), (352, 13), (353, 2), (354, 2), (355, 2), (356, 1), (357, 6), (358, 2), (359, 1), (360, 8), (361, 2), (362, 1), (363, 1), (364, 7), (365, 1), (366, 35), (367, 2), (368, 3), (369, 1), (370, 2), (371, 3), (372, 5), (373, 5), (374, 7), (375, 8), (376, 15), (377, 1), (378, 1), (379, 1), (380, 5), (381, 32), (382, 1), (383, 1), (384, 1), (385, 1), (386, 1), (387, 2), (388, 1), (389, 1), (390, 1), (391, 1), (392, 26), (393, 1), (394, 2), (395, 2), (396, 1), (397, 1), (398, 2), (399, 24), (400, 3), (401, 1), (402, 7), (403, 1), (404, 1), (405, 3), (406, 4), (407, 2), (408, 1), (409, 2), (410, 10), (411, 3), (412, 5), (413, 1), (414, 1), (415, 2), (416, 1), (417, 1), (418, 6), (419, 5), (420, 2), (421, 1), (422, 1), (423, 1), (424, 1), (425, 1), (426, 1), (427, 1), (428, 6), (429, 1), (430, 4), (431, 2), (432, 6), (433, 1), (434, 3), (435, 5), (436, 2), (437, 1), (438, 1), (439, 1), (440, 1), (441, 7), (442, 12), (443, 2), (444, 2), (445, 1), (446, 5), (447, 1), (448, 1), (449, 1), (450, 1), (451, 4), (452, 2), (453, 1), (454, 1), (455, 1), (456, 1), (457, 5), (458, 2), (459, 1), (460, 4), (461, 2), (462, 4), (463, 6), (464, 3), (465, 2), (466, 1), (467, 2), (468, 10), (469, 2), (470, 1), (471, 2), (472, 10), (473, 1), (474, 4), (475, 1), (476, 4), (477, 2), (478, 1), (479, 2), (480, 1), (481, 1), (482, 1), (483, 4), (484, 1), (485, 1), (486, 3), (487, 3), (488, 2), (489, 1), (490, 5), (491, 1), (492, 1), (493, 1), (494, 3), (495, 4), (496, 2), (497, 2), (498, 1), (499, 1), (500, 1), (501, 2), (502, 4), (503, 1), (504, 2), (505, 1), (506, 1), (507, 1), (508, 1), (509, 14), (510, 1), (511, 1), (512, 1), (513, 8), (514, 2), (515, 1), (516, 6), (517, 3), (518, 11), (519, 6), (520, 3), (521, 1), (522, 5), (523, 1), (524, 14), (525, 2), (526, 12), (527, 1), (528, 2), (529, 2), (530, 2), (531, 2), (532, 1), (533, 1), (534, 3), (535, 1), (536, 4), (537, 1), (538, 1), (539, 1), (540, 1), (541, 1), (542, 1), (543, 2), (544, 13), (545, 1), (546, 1), (547, 1), (548, 1), (549, 5), (550, 2), (551, 1), (552, 1), (553, 1), (554, 13), (555, 1), (556, 2), (557, 1), (558, 1), (559, 1), (560, 3), (561, 3), (562, 1), (563, 1), (564, 2), (565, 3), (566, 2), (567, 1), (568, 1), (569, 2), (570, 9), (571, 14), (572, 1), (573, 2), (574, 1), (575, 1), (576, 1), (577, 1), (578, 1), (579, 1), (580, 6), (581, 6), (582, 1), (583, 1), (584, 1), (585, 1), (586, 1), (587, 1), (588, 1), (589, 1), (590, 1), (591, 3), (592, 1), (593, 3), (594, 2), (595, 2), (596, 3), (597, 1), (598, 1), (599, 1), (600, 7), (601, 2), (602, 1), (603, 3), (604, 1), (605, 28), (606, 1), (607, 1), (608, 4), (609, 6), (610, 35), (611, 2), (612, 2), (613, 10), (614, 1), (615, 4), (616, 1), (617, 6), (618, 1), (619, 2), (620, 2), (621, 1), (622, 2), (623, 5), (624, 1), (625, 1), (626, 1), (627, 2)]]\n"
     ]
    }
   ],
   "source": [
    "import gensim.corpora as corpora\n",
    "# Create Dictionary\n",
    "id2word = corpora.Dictionary(data_lemmatized)\n",
    "# Create Corpus\n",
    "texts = data_lemmatized\n",
    "# Term Document Frequency\n",
    "corpus = [id2word.doc2bow(text) for text in texts]\n",
    "# View\n",
    "print(corpus[:1])"
   ]
  },
  {
   "cell_type": "code",
   "execution_count": 16,
   "metadata": {},
   "outputs": [],
   "source": [
    "# Build LDA model\n",
    "lda_model = gensim.models.LdaMulticore(corpus=corpus,\n",
    "                                       id2word=id2word,\n",
    "                                       num_topics=10, \n",
    "                                       random_state=100,\n",
    "                                       chunksize=100,\n",
    "                                       passes=10,\n",
    "                                       per_word_topics=True)"
   ]
  },
  {
   "cell_type": "code",
   "execution_count": 17,
   "metadata": {},
   "outputs": [
    {
     "name": "stdout",
     "output_type": "stream",
     "text": [
      "[(0,\n",
      "  '0.023*\"view\" + 0.019*\"classifier\" + 0.018*\"set\" + 0.016*\"learn\" + '\n",
      "  '0.014*\"example\" + 0.013*\"use\" + 0.013*\"training\" + 0.012*\"xv\" + '\n",
      "  '0.012*\"multi_view\" + 0.010*\"class\"'),\n",
      " (1,\n",
      "  '0.030*\"model\" + 0.020*\"structure\" + 0.018*\"permutation\" + 0.016*\"rim\" + '\n",
      "  '0.009*\"algorithm\" + 0.009*\"datum\" + 0.008*\"element\" + 0.008*\"gmm\" + '\n",
      "  '0.008*\"set\" + 0.008*\"parameter\"'),\n",
      " (2,\n",
      "  '0.031*\"model\" + 0.031*\"individual\" + 0.017*\"use\" + 0.015*\"prediction\" + '\n",
      "  '0.012*\"disease\" + 0.012*\"trajectory\" + 0.011*\"time\" + 0.011*\"subtype\" + '\n",
      "  '0.009*\"datum\" + 0.008*\"zi\"'),\n",
      " (3,\n",
      "  '0.001*\"model\" + 0.001*\"use\" + 0.001*\"datum\" + 0.001*\"set\" + '\n",
      "  '0.001*\"individual\" + 0.000*\"learn\" + 0.000*\"show\" + 0.000*\"kernel\" + '\n",
      "  '0.000*\"time\" + 0.000*\"feature\"'),\n",
      " (4,\n",
      "  '0.015*\"algorithm\" + 0.014*\"individual\" + 0.012*\"sample\" + 0.012*\"time\" + '\n",
      "  '0.012*\"search\" + 0.011*\"tree\" + 0.010*\"model\" + 0.009*\"dataset\" + '\n",
      "  '0.009*\"approximate\" + 0.008*\"distance\"'),\n",
      " (5,\n",
      "  '0.013*\"model\" + 0.012*\"matrix\" + 0.010*\"code\" + 0.010*\"variable\" + '\n",
      "  '0.009*\"gaussian\" + 0.008*\"use\" + 0.007*\"kernel\" + '\n",
      "  '0.007*\"mutual_information\" + 0.006*\"local\" + 0.006*\"network\"'),\n",
      " (6,\n",
      "  '0.000*\"model\" + 0.000*\"individual\" + 0.000*\"use\" + 0.000*\"datum\" + '\n",
      "  '0.000*\"time\" + 0.000*\"learn\" + 0.000*\"set\" + 0.000*\"figure\" + '\n",
      "  '0.000*\"system\" + 0.000*\"show\"'),\n",
      " (7,\n",
      "  '0.017*\"datum\" + 0.015*\"use\" + 0.015*\"model\" + 0.011*\"source\" + '\n",
      "  '0.010*\"feature\" + 0.008*\"ica\" + 0.008*\"learn\" + 0.008*\"training\" + '\n",
      "  '0.008*\"show\" + 0.007*\"label\"'),\n",
      " (8,\n",
      "  '0.021*\"plasma\" + 0.017*\"network\" + 0.015*\"use\" + 0.013*\"time\" + '\n",
      "  '0.013*\"control\" + 0.013*\"tokamak\" + 0.009*\"real\" + 0.009*\"neural_network\" + '\n",
      "  '0.009*\"shape\" + 0.008*\"linear\"'),\n",
      " (9,\n",
      "  '0.001*\"individual\" + 0.001*\"model\" + 0.001*\"use\" + 0.001*\"time\" + '\n",
      "  '0.000*\"number\" + 0.000*\"algorithm\" + 0.000*\"datum\" + 0.000*\"state\" + '\n",
      "  '0.000*\"system\" + 0.000*\"set\"')]\n"
     ]
    }
   ],
   "source": [
    "from pprint import pprint\n",
    "# Print the Keyword in the 10 topics\n",
    "pprint(lda_model.print_topics())\n",
    "doc_lda = lda_model[corpus]"
   ]
  },
  {
   "cell_type": "code",
   "execution_count": 18,
   "metadata": {},
   "outputs": [
    {
     "name": "stdout",
     "output_type": "stream",
     "text": [
      "\n",
      "Coherence Score:  0.44753326934014004\n"
     ]
    }
   ],
   "source": [
    "from gensim.models import CoherenceModel\n",
    "# Compute Coherence Score\n",
    "coherence_model_lda = CoherenceModel(model=lda_model, texts=data_lemmatized, dictionary=id2word, coherence='c_v')\n",
    "coherence_lda = coherence_model_lda.get_coherence()\n",
    "print('\\nCoherence Score: ', coherence_lda)"
   ]
  },
  {
   "cell_type": "code",
   "execution_count": null,
   "metadata": {},
   "outputs": [],
   "source": []
  }
 ],
 "metadata": {
  "kernelspec": {
   "display_name": "Python 3",
   "language": "python",
   "name": "python3"
  },
  "language_info": {
   "codemirror_mode": {
    "name": "ipython",
    "version": 3
   },
   "file_extension": ".py",
   "mimetype": "text/x-python",
   "name": "python",
   "nbconvert_exporter": "python",
   "pygments_lexer": "ipython3",
   "version": "3.7.3"
  }
 },
 "nbformat": 4,
 "nbformat_minor": 2
}
