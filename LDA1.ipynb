{
 "cells": [
  {
   "cell_type": "code",
   "execution_count": 1,
   "metadata": {},
   "outputs": [],
   "source": [
    "import pandas as pd\n",
    "data = pd.read_csv('abcnews-date-text.csv', error_bad_lines=False);\n",
    "data_text = data[['headline_text']]\n",
    "data_text['index'] = data_text.index\n",
    "documents = data_text"
   ]
  },
  {
   "cell_type": "code",
   "execution_count": 2,
   "metadata": {},
   "outputs": [
    {
     "name": "stdout",
     "output_type": "stream",
     "text": [
      "1103663\n",
      "                                       headline_text  index\n",
      "0  aba decides against community broadcasting lic...      0\n",
      "1     act fire witnesses must be aware of defamation      1\n",
      "2     a g calls for infrastructure protection summit      2\n",
      "3           air nz staff in aust strike for pay rise      3\n",
      "4      air nz strike to affect australian travellers      4\n"
     ]
    }
   ],
   "source": [
    "print(len(documents))\n",
    "print(documents[:5])"
   ]
  },
  {
   "cell_type": "code",
   "execution_count": 3,
   "metadata": {},
   "outputs": [
    {
     "name": "stderr",
     "output_type": "stream",
     "text": [
      "[nltk_data] Downloading package wordnet to\n",
      "[nltk_data]     C:\\Users\\HP\\AppData\\Roaming\\nltk_data...\n",
      "[nltk_data]   Package wordnet is already up-to-date!\n"
     ]
    },
    {
     "data": {
      "text/plain": [
       "True"
      ]
     },
     "execution_count": 3,
     "metadata": {},
     "output_type": "execute_result"
    }
   ],
   "source": [
    "import gensim\n",
    "from gensim.utils import simple_preprocess\n",
    "from gensim.parsing.preprocessing import STOPWORDS\n",
    "from nltk.stem import WordNetLemmatizer, SnowballStemmer\n",
    "from nltk.stem.porter import *\n",
    "import numpy as np\n",
    "np.random.seed(2018)\n",
    "import nltk\n",
    "nltk.download('wordnet')"
   ]
  },
  {
   "cell_type": "code",
   "execution_count": 4,
   "metadata": {},
   "outputs": [],
   "source": [
    "stemmer = SnowballStemmer(\"english\")\n",
    "def lemmatize_stemming(text):\n",
    "    return stemmer.stem(WordNetLemmatizer().lemmatize(text, pos='v'))\n",
    "def preprocess(text):\n",
    "    result = []\n",
    "    for token in gensim.utils.simple_preprocess(text):\n",
    "        if token not in gensim.parsing.preprocessing.STOPWORDS and len(token) > 3:\n",
    "            result.append(lemmatize_stemming(token))\n",
    "    return result\n"
   ]
  },
  {
   "cell_type": "code",
   "execution_count": 5,
   "metadata": {},
   "outputs": [
    {
     "name": "stdout",
     "output_type": "stream",
     "text": [
      "original document: \n",
      "['rain', 'helps', 'dampen', 'bushfires']\n",
      "\n",
      "\n",
      " tokenized and lemmatized document: \n",
      "['rain', 'help', 'dampen', 'bushfir']\n"
     ]
    }
   ],
   "source": [
    "doc_sample = documents[documents['index'] == 4310].values[0][0]\n",
    "print('original document: ')\n",
    "words = []\n",
    "for word in doc_sample.split(' '):\n",
    "    words.append(word)\n",
    "print(words)\n",
    "print('\\n\\n tokenized and lemmatized document: ')\n",
    "\n",
    "print(preprocess(doc_sample))"
   ]
  },
  {
   "cell_type": "code",
   "execution_count": 6,
   "metadata": {},
   "outputs": [
    {
     "data": {
      "text/plain": [
       "0            [decid, communiti, broadcast, licenc]\n",
       "1                               [wit, awar, defam]\n",
       "2           [call, infrastructur, protect, summit]\n",
       "3                      [staff, aust, strike, rise]\n",
       "4             [strike, affect, australian, travel]\n",
       "5               [ambiti, olsson, win, tripl, jump]\n",
       "6           [antic, delight, record, break, barca]\n",
       "7    [aussi, qualifi, stosur, wast, memphi, match]\n",
       "8            [aust, address, secur, council, iraq]\n",
       "9                         [australia, lock, timet]\n",
       "Name: headline_text, dtype: object"
      ]
     },
     "execution_count": 6,
     "metadata": {},
     "output_type": "execute_result"
    }
   ],
   "source": [
    "processed_docs =documents['headline_text'].map(preprocess)\n",
    "\n",
    "processed_docs[:10]"
   ]
  },
  {
   "cell_type": "code",
   "execution_count": 7,
   "metadata": {},
   "outputs": [
    {
     "name": "stdout",
     "output_type": "stream",
     "text": [
      "0 broadcast\n",
      "1 communiti\n",
      "2 decid\n",
      "3 licenc\n",
      "4 awar\n",
      "5 defam\n",
      "6 wit\n",
      "7 call\n",
      "8 infrastructur\n",
      "9 protect\n",
      "10 summit\n"
     ]
    }
   ],
   "source": [
    "import gensim.corpora as corpora\n",
    "dictionary = corpora.Dictionary(processed_docs)\n",
    "count = 0\n",
    "for k, v in dictionary.iteritems():\n",
    "    print(k, v)\n",
    "    count += 1\n",
    "    if count > 10:\n",
    "        break"
   ]
  },
  {
   "cell_type": "code",
   "execution_count": 10,
   "metadata": {},
   "outputs": [
    {
     "name": "stdout",
     "output_type": "stream",
     "text": [
      "Word 76 (\"bushfir\") appears 1 time.\n",
      "Word 112 (\"help\") appears 1 time.\n",
      "Word 484 (\"rain\") appears 1 time.\n",
      "Word 4015 (\"dampen\") appears 1 time.\n"
     ]
    }
   ],
   "source": [
    "dictionary.filter_extremes(no_below=15, no_above=0.5, keep_n=100000)\n",
    "bow_corpus = [dictionary.doc2bow(doc) for doc in processed_docs]\n",
    "bow_corpus[4310]\n",
    "bow_doc_4310 = bow_corpus[4310]\n",
    "for i in range(len(bow_doc_4310)):\n",
    "    print(\"Word {} (\\\"{}\\\") appears {} time.\".format(bow_doc_4310[i][0],dictionary[bow_doc_4310[i][0]],bow_doc_4310[i][1]))"
   ]
  },
  {
   "cell_type": "markdown",
   "metadata": {},
   "source": [
    "TF-IDF"
   ]
  },
  {
   "cell_type": "code",
   "execution_count": 11,
   "metadata": {},
   "outputs": [
    {
     "name": "stdout",
     "output_type": "stream",
     "text": [
      "[(0, 0.5893154583024485),\n",
      " (1, 0.3892866165028569),\n",
      " (2, 0.49651921997736453),\n",
      " (3, 0.5046106271280878)]\n"
     ]
    }
   ],
   "source": [
    "from gensim import corpora, models\n",
    "tfidf = models.TfidfModel(bow_corpus)\n",
    "corpus_tfidf = tfidf[bow_corpus]\n",
    "from pprint import pprint\n",
    "for doc in corpus_tfidf:\n",
    "    pprint(doc)\n",
    "    break"
   ]
  },
  {
   "cell_type": "markdown",
   "metadata": {},
   "source": [
    "Running LDA using Bag of Words"
   ]
  },
  {
   "cell_type": "code",
   "execution_count": 12,
   "metadata": {},
   "outputs": [],
   "source": [
    "lda_model = gensim.models.LdaMulticore(bow_corpus, num_topics=10, id2word=dictionary, passes=2, workers=2)"
   ]
  },
  {
   "cell_type": "code",
   "execution_count": 13,
   "metadata": {},
   "outputs": [
    {
     "name": "stdout",
     "output_type": "stream",
     "text": [
      "Topic: 0 \n",
      "Words: 0.022*\"warn\" + 0.021*\"market\" + 0.018*\"hospit\" + 0.017*\"school\" + 0.016*\"health\" + 0.015*\"high\" + 0.015*\"share\" + 0.015*\"minist\" + 0.015*\"break\" + 0.013*\"worker\"\n",
      "Topic: 1 \n",
      "Words: 0.026*\"adelaid\" + 0.020*\"australian\" + 0.020*\"test\" + 0.017*\"tasmanian\" + 0.017*\"win\" + 0.016*\"open\" + 0.014*\"melbourn\" + 0.011*\"vote\" + 0.011*\"darwin\" + 0.010*\"parti\"\n",
      "Topic: 2 \n",
      "Words: 0.023*\"chang\" + 0.018*\"miss\" + 0.017*\"tasmania\" + 0.015*\"price\" + 0.014*\"farmer\" + 0.014*\"concern\" + 0.013*\"fall\" + 0.013*\"busi\" + 0.011*\"search\" + 0.011*\"green\"\n",
      "Topic: 3 \n",
      "Words: 0.030*\"govern\" + 0.022*\"south\" + 0.020*\"north\" + 0.017*\"countri\" + 0.015*\"rural\" + 0.014*\"australia\" + 0.014*\"hour\" + 0.013*\"west\" + 0.013*\"indigen\" + 0.011*\"communiti\"\n",
      "Topic: 4 \n",
      "Words: 0.022*\"die\" + 0.020*\"live\" + 0.018*\"donald\" + 0.018*\"coast\" + 0.016*\"gold\" + 0.015*\"lose\" + 0.013*\"park\" + 0.012*\"royal\" + 0.012*\"beat\" + 0.011*\"head\"\n",
      "Topic: 5 \n",
      "Words: 0.027*\"elect\" + 0.021*\"sydney\" + 0.018*\"say\" + 0.014*\"labor\" + 0.013*\"time\" + 0.013*\"call\" + 0.012*\"train\" + 0.011*\"abus\" + 0.011*\"budget\" + 0.010*\"polit\"\n",
      "Topic: 6 \n",
      "Words: 0.038*\"polic\" + 0.028*\"charg\" + 0.026*\"court\" + 0.020*\"murder\" + 0.017*\"death\" + 0.017*\"face\" + 0.015*\"woman\" + 0.015*\"alleg\" + 0.014*\"interview\" + 0.014*\"jail\"\n",
      "Topic: 7 \n",
      "Words: 0.032*\"trump\" + 0.028*\"australia\" + 0.024*\"world\" + 0.016*\"final\" + 0.015*\"china\" + 0.012*\"island\" + 0.011*\"leagu\" + 0.011*\"take\" + 0.010*\"citi\" + 0.010*\"rise\"\n",
      "Topic: 8 \n",
      "Words: 0.037*\"year\" + 0.030*\"queensland\" + 0.022*\"canberra\" + 0.014*\"investig\" + 0.014*\"children\" + 0.014*\"hous\" + 0.011*\"releas\" + 0.011*\"game\" + 0.010*\"australia\" + 0.010*\"life\"\n",
      "Topic: 9 \n",
      "Words: 0.027*\"kill\" + 0.025*\"home\" + 0.020*\"attack\" + 0.020*\"crash\" + 0.017*\"turnbul\" + 0.015*\"road\" + 0.015*\"protest\" + 0.014*\"driver\" + 0.013*\"farm\" + 0.013*\"polic\"\n"
     ]
    }
   ],
   "source": [
    "for idx, topic in lda_model.print_topics(-1):\n",
    "    print('Topic: {} \\nWords: {}'.format(idx, topic))"
   ]
  },
  {
   "cell_type": "markdown",
   "metadata": {},
   "source": [
    "Running LDA using TF-IDF"
   ]
  },
  {
   "cell_type": "code",
   "execution_count": 14,
   "metadata": {},
   "outputs": [
    {
     "name": "stdout",
     "output_type": "stream",
     "text": [
      "Topic: 0 Word: 0.010*\"final\" + 0.010*\"crash\" + 0.010*\"australia\" + 0.009*\"leagu\" + 0.008*\"world\" + 0.007*\"open\" + 0.007*\"kill\" + 0.006*\"india\" + 0.005*\"islam\" + 0.005*\"festiv\"\n",
      "Topic: 1 Word: 0.010*\"victoria\" + 0.010*\"donald\" + 0.009*\"farm\" + 0.007*\"station\" + 0.007*\"price\" + 0.007*\"friday\" + 0.006*\"power\" + 0.006*\"cattl\" + 0.006*\"andrew\" + 0.005*\"anim\"\n",
      "Topic: 2 Word: 0.018*\"charg\" + 0.017*\"polic\" + 0.015*\"murder\" + 0.013*\"court\" + 0.011*\"death\" + 0.011*\"woman\" + 0.010*\"alleg\" + 0.009*\"jail\" + 0.009*\"drum\" + 0.009*\"assault\"\n",
      "Topic: 3 Word: 0.016*\"coast\" + 0.011*\"weather\" + 0.011*\"gold\" + 0.011*\"miss\" + 0.009*\"sport\" + 0.009*\"grandstand\" + 0.009*\"search\" + 0.008*\"juli\" + 0.008*\"season\" + 0.007*\"septemb\"\n",
      "Topic: 4 Word: 0.017*\"market\" + 0.016*\"news\" + 0.011*\"share\" + 0.007*\"climat\" + 0.007*\"monday\" + 0.007*\"australian\" + 0.006*\"bank\" + 0.006*\"jam\" + 0.005*\"april\" + 0.005*\"busi\"\n",
      "Topic: 5 Word: 0.023*\"interview\" + 0.018*\"rural\" + 0.010*\"royal\" + 0.008*\"commiss\" + 0.007*\"john\" + 0.007*\"michael\" + 0.007*\"octob\" + 0.007*\"mother\" + 0.007*\"mental\" + 0.007*\"violenc\"\n",
      "Topic: 6 Word: 0.012*\"turnbul\" + 0.009*\"abbott\" + 0.009*\"marriag\" + 0.008*\"rugbi\" + 0.007*\"peter\" + 0.007*\"malcolm\" + 0.006*\"june\" + 0.006*\"smith\" + 0.006*\"drought\" + 0.006*\"toni\"\n",
      "Topic: 7 Word: 0.008*\"tasmanian\" + 0.007*\"fund\" + 0.007*\"budget\" + 0.007*\"govern\" + 0.006*\"council\" + 0.006*\"live\" + 0.006*\"plead\" + 0.006*\"christma\" + 0.006*\"coal\" + 0.005*\"street\"\n",
      "Topic: 8 Word: 0.023*\"trump\" + 0.011*\"queensland\" + 0.007*\"thursday\" + 0.005*\"obama\" + 0.005*\"detent\" + 0.005*\"cancer\" + 0.005*\"crop\" + 0.005*\"wallabi\" + 0.005*\"onlin\" + 0.005*\"harvest\"\n",
      "Topic: 9 Word: 0.020*\"countri\" + 0.018*\"hour\" + 0.010*\"govern\" + 0.010*\"elect\" + 0.010*\"podcast\" + 0.007*\"polit\" + 0.007*\"say\" + 0.006*\"korea\" + 0.006*\"labor\" + 0.006*\"liber\"\n"
     ]
    }
   ],
   "source": [
    "lda_model_tfidf = gensim.models.LdaMulticore(corpus_tfidf, num_topics=10, id2word=dictionary, passes=2, workers=4)\n",
    "for idx, topic in lda_model_tfidf.print_topics(-1):\n",
    "    print('Topic: {} Word: {}'.format(idx, topic))"
   ]
  },
  {
   "cell_type": "markdown",
   "metadata": {},
   "source": [
    "Performance evaluation by classifying sample document using LDA Bag of Words model"
   ]
  },
  {
   "cell_type": "code",
   "execution_count": 15,
   "metadata": {},
   "outputs": [
    {
     "data": {
      "text/plain": [
       "['rain', 'help', 'dampen', 'bushfir']"
      ]
     },
     "execution_count": 15,
     "metadata": {},
     "output_type": "execute_result"
    }
   ],
   "source": [
    "processed_docs[4310]"
   ]
  },
  {
   "cell_type": "code",
   "execution_count": 16,
   "metadata": {},
   "outputs": [
    {
     "name": "stdout",
     "output_type": "stream",
     "text": [
      "\n",
      "Score: 0.5218023061752319\t \n",
      "Topic: 0.027*\"kill\" + 0.025*\"home\" + 0.020*\"attack\" + 0.020*\"crash\" + 0.017*\"turnbul\" + 0.015*\"road\" + 0.015*\"protest\" + 0.014*\"driver\" + 0.013*\"farm\" + 0.013*\"polic\"\n",
      "\n",
      "Score: 0.3181477189064026\t \n",
      "Topic: 0.030*\"govern\" + 0.022*\"south\" + 0.020*\"north\" + 0.017*\"countri\" + 0.015*\"rural\" + 0.014*\"australia\" + 0.014*\"hour\" + 0.013*\"west\" + 0.013*\"indigen\" + 0.011*\"communiti\"\n",
      "\n",
      "Score: 0.020008310675621033\t \n",
      "Topic: 0.023*\"chang\" + 0.018*\"miss\" + 0.017*\"tasmania\" + 0.015*\"price\" + 0.014*\"farmer\" + 0.014*\"concern\" + 0.013*\"fall\" + 0.013*\"busi\" + 0.011*\"search\" + 0.011*\"green\"\n",
      "\n",
      "Score: 0.02000705897808075\t \n",
      "Topic: 0.022*\"warn\" + 0.021*\"market\" + 0.018*\"hospit\" + 0.017*\"school\" + 0.016*\"health\" + 0.015*\"high\" + 0.015*\"share\" + 0.015*\"minist\" + 0.015*\"break\" + 0.013*\"worker\"\n",
      "\n",
      "Score: 0.020006582140922546\t \n",
      "Topic: 0.027*\"elect\" + 0.021*\"sydney\" + 0.018*\"say\" + 0.014*\"labor\" + 0.013*\"time\" + 0.013*\"call\" + 0.012*\"train\" + 0.011*\"abus\" + 0.011*\"budget\" + 0.010*\"polit\"\n",
      "\n",
      "Score: 0.020006239414215088\t \n",
      "Topic: 0.022*\"die\" + 0.020*\"live\" + 0.018*\"donald\" + 0.018*\"coast\" + 0.016*\"gold\" + 0.015*\"lose\" + 0.013*\"park\" + 0.012*\"royal\" + 0.012*\"beat\" + 0.011*\"head\"\n",
      "\n",
      "Score: 0.02000616118311882\t \n",
      "Topic: 0.038*\"polic\" + 0.028*\"charg\" + 0.026*\"court\" + 0.020*\"murder\" + 0.017*\"death\" + 0.017*\"face\" + 0.015*\"woman\" + 0.015*\"alleg\" + 0.014*\"interview\" + 0.014*\"jail\"\n",
      "\n",
      "Score: 0.02000521682202816\t \n",
      "Topic: 0.032*\"trump\" + 0.028*\"australia\" + 0.024*\"world\" + 0.016*\"final\" + 0.015*\"china\" + 0.012*\"island\" + 0.011*\"leagu\" + 0.011*\"take\" + 0.010*\"citi\" + 0.010*\"rise\"\n",
      "\n",
      "Score: 0.02000521682202816\t \n",
      "Topic: 0.037*\"year\" + 0.030*\"queensland\" + 0.022*\"canberra\" + 0.014*\"investig\" + 0.014*\"children\" + 0.014*\"hous\" + 0.011*\"releas\" + 0.011*\"game\" + 0.010*\"australia\" + 0.010*\"life\"\n",
      "\n",
      "Score: 0.02000521495938301\t \n",
      "Topic: 0.026*\"adelaid\" + 0.020*\"australian\" + 0.020*\"test\" + 0.017*\"tasmanian\" + 0.017*\"win\" + 0.016*\"open\" + 0.014*\"melbourn\" + 0.011*\"vote\" + 0.011*\"darwin\" + 0.010*\"parti\"\n"
     ]
    }
   ],
   "source": [
    "for index, score in sorted(lda_model[bow_corpus[4310]], key=lambda tup: -1*tup[1]):\n",
    "    print(\"\\nScore: {}\\t \\nTopic: {}\".format(score, lda_model.print_topic(index, 10)))"
   ]
  },
  {
   "cell_type": "markdown",
   "metadata": {},
   "source": [
    "using LDA TF-IDF model"
   ]
  },
  {
   "cell_type": "code",
   "execution_count": 17,
   "metadata": {},
   "outputs": [
    {
     "name": "stdout",
     "output_type": "stream",
     "text": [
      "\n",
      "Score: 0.8199586272239685\t \n",
      "Topic: 0.016*\"coast\" + 0.011*\"weather\" + 0.011*\"gold\" + 0.011*\"miss\" + 0.009*\"sport\" + 0.009*\"grandstand\" + 0.009*\"search\" + 0.008*\"juli\" + 0.008*\"season\" + 0.007*\"septemb\"\n",
      "\n",
      "Score: 0.02000727690756321\t \n",
      "Topic: 0.012*\"turnbul\" + 0.009*\"abbott\" + 0.009*\"marriag\" + 0.008*\"rugbi\" + 0.007*\"peter\" + 0.007*\"malcolm\" + 0.006*\"june\" + 0.006*\"smith\" + 0.006*\"drought\" + 0.006*\"toni\"\n",
      "\n",
      "Score: 0.02000594139099121\t \n",
      "Topic: 0.008*\"tasmanian\" + 0.007*\"fund\" + 0.007*\"budget\" + 0.007*\"govern\" + 0.006*\"council\" + 0.006*\"live\" + 0.006*\"plead\" + 0.006*\"christma\" + 0.006*\"coal\" + 0.005*\"street\"\n",
      "\n",
      "Score: 0.020005524158477783\t \n",
      "Topic: 0.023*\"trump\" + 0.011*\"queensland\" + 0.007*\"thursday\" + 0.005*\"obama\" + 0.005*\"detent\" + 0.005*\"cancer\" + 0.005*\"crop\" + 0.005*\"wallabi\" + 0.005*\"onlin\" + 0.005*\"harvest\"\n",
      "\n",
      "Score: 0.020004523918032646\t \n",
      "Topic: 0.010*\"victoria\" + 0.010*\"donald\" + 0.009*\"farm\" + 0.007*\"station\" + 0.007*\"price\" + 0.007*\"friday\" + 0.006*\"power\" + 0.006*\"cattl\" + 0.006*\"andrew\" + 0.005*\"anim\"\n",
      "\n",
      "Score: 0.020004456862807274\t \n",
      "Topic: 0.023*\"interview\" + 0.018*\"rural\" + 0.010*\"royal\" + 0.008*\"commiss\" + 0.007*\"john\" + 0.007*\"michael\" + 0.007*\"octob\" + 0.007*\"mother\" + 0.007*\"mental\" + 0.007*\"violenc\"\n",
      "\n",
      "Score: 0.020004259422421455\t \n",
      "Topic: 0.018*\"charg\" + 0.017*\"polic\" + 0.015*\"murder\" + 0.013*\"court\" + 0.011*\"death\" + 0.011*\"woman\" + 0.010*\"alleg\" + 0.009*\"jail\" + 0.009*\"drum\" + 0.009*\"assault\"\n",
      "\n",
      "Score: 0.02000316232442856\t \n",
      "Topic: 0.020*\"countri\" + 0.018*\"hour\" + 0.010*\"govern\" + 0.010*\"elect\" + 0.010*\"podcast\" + 0.007*\"polit\" + 0.007*\"say\" + 0.006*\"korea\" + 0.006*\"labor\" + 0.006*\"liber\"\n",
      "\n",
      "Score: 0.02000313811004162\t \n",
      "Topic: 0.010*\"final\" + 0.010*\"crash\" + 0.010*\"australia\" + 0.009*\"leagu\" + 0.008*\"world\" + 0.007*\"open\" + 0.007*\"kill\" + 0.006*\"india\" + 0.005*\"islam\" + 0.005*\"festiv\"\n",
      "\n",
      "Score: 0.02000303752720356\t \n",
      "Topic: 0.017*\"market\" + 0.016*\"news\" + 0.011*\"share\" + 0.007*\"climat\" + 0.007*\"monday\" + 0.007*\"australian\" + 0.006*\"bank\" + 0.006*\"jam\" + 0.005*\"april\" + 0.005*\"busi\"\n"
     ]
    }
   ],
   "source": [
    "for index, score in sorted(lda_model_tfidf[bow_corpus[4310]], key=lambda tup: -1*tup[1]):\n",
    "    print(\"\\nScore: {}\\t \\nTopic: {}\".format(score, lda_model_tfidf.print_topic(index, 10)))"
   ]
  },
  {
   "cell_type": "markdown",
   "metadata": {},
   "source": [
    "Testing model on unseen document"
   ]
  },
  {
   "cell_type": "code",
   "execution_count": 18,
   "metadata": {},
   "outputs": [
    {
     "name": "stdout",
     "output_type": "stream",
     "text": [
      "Score: 0.32110676169395447\t Topic: 0.032*\"trump\" + 0.028*\"australia\" + 0.024*\"world\" + 0.016*\"final\" + 0.015*\"china\"\n",
      "Score: 0.2125992774963379\t Topic: 0.022*\"warn\" + 0.021*\"market\" + 0.018*\"hospit\" + 0.017*\"school\" + 0.016*\"health\"\n",
      "Score: 0.18333426117897034\t Topic: 0.038*\"polic\" + 0.028*\"charg\" + 0.026*\"court\" + 0.020*\"murder\" + 0.017*\"death\"\n",
      "Score: 0.18285787105560303\t Topic: 0.027*\"elect\" + 0.021*\"sydney\" + 0.018*\"say\" + 0.014*\"labor\" + 0.013*\"time\"\n",
      "Score: 0.016689153388142586\t Topic: 0.030*\"govern\" + 0.022*\"south\" + 0.020*\"north\" + 0.017*\"countri\" + 0.015*\"rural\"\n",
      "Score: 0.01668252795934677\t Topic: 0.026*\"adelaid\" + 0.020*\"australian\" + 0.020*\"test\" + 0.017*\"tasmanian\" + 0.017*\"win\"\n",
      "Score: 0.01668252795934677\t Topic: 0.023*\"chang\" + 0.018*\"miss\" + 0.017*\"tasmania\" + 0.015*\"price\" + 0.014*\"farmer\"\n",
      "Score: 0.01668252795934677\t Topic: 0.022*\"die\" + 0.020*\"live\" + 0.018*\"donald\" + 0.018*\"coast\" + 0.016*\"gold\"\n",
      "Score: 0.01668252795934677\t Topic: 0.037*\"year\" + 0.030*\"queensland\" + 0.022*\"canberra\" + 0.014*\"investig\" + 0.014*\"children\"\n",
      "Score: 0.01668252795934677\t Topic: 0.027*\"kill\" + 0.025*\"home\" + 0.020*\"attack\" + 0.020*\"crash\" + 0.017*\"turnbul\"\n"
     ]
    }
   ],
   "source": [
    "unseen_document = 'How a Pentagon deal became an identity crisis for Google'\n",
    "bow_vector = dictionary.doc2bow(preprocess(unseen_document))\n",
    "for index, score in sorted(lda_model[bow_vector], key=lambda tup: -1*tup[1]):\n",
    "    print(\"Score: {}\\t Topic: {}\".format(score, lda_model.print_topic(index, 5)))"
   ]
  },
  {
   "cell_type": "code",
   "execution_count": 20,
   "metadata": {},
   "outputs": [
    {
     "name": "stdout",
     "output_type": "stream",
     "text": [
      "\n",
      "Perplexity: -8.813462981092798\n",
      "\n",
      "Coherence Score: 0.20492387342171892\n"
     ]
    }
   ],
   "source": [
    "print('\\nPerplexity:', lda_model.log_perplexity(bow_corpus))\n",
    "\n",
    "from gensim.models import CoherenceModel\n",
    "\n",
    "coherence_score_lda = CoherenceModel(model=lda_model, texts=processed_docs, dictionary=dictionary, coherence='c_v')\n",
    "coherence_score = coherence_score_lda.get_coherence()\n",
    "\n",
    "print('\\nCoherence Score:', coherence_score)"
   ]
  },
  {
   "cell_type": "code",
   "execution_count": null,
   "metadata": {},
   "outputs": [],
   "source": []
  }
 ],
 "metadata": {
  "kernelspec": {
   "display_name": "Python 3",
   "language": "python",
   "name": "python3"
  },
  "language_info": {
   "codemirror_mode": {
    "name": "ipython",
    "version": 3
   },
   "file_extension": ".py",
   "mimetype": "text/x-python",
   "name": "python",
   "nbconvert_exporter": "python",
   "pygments_lexer": "ipython3",
   "version": "3.7.3"
  }
 },
 "nbformat": 4,
 "nbformat_minor": 2
}
